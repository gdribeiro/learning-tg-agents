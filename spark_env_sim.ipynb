{
 "cells": [
  {
   "cell_type": "code",
   "execution_count": 2,
   "metadata": {},
   "outputs": [
    {
     "name": "stderr",
     "output_type": "stream",
     "text": [
      "2022-12-10 11:28:17.846863: I tensorflow/core/platform/cpu_feature_guard.cc:193] This TensorFlow binary is optimized with oneAPI Deep Neural Network Library (oneDNN) to use the following CPU instructions in performance-critical operations:  AVX2 FMA\n",
      "To enable them in other operations, rebuild TensorFlow with the appropriate compiler flags.\n"
     ]
    }
   ],
   "source": [
    "import abc\n",
    "import tensorflow as tf\n",
    "\n",
    "import numpy as np\n",
    "\n",
    "from tf_agents.environments import py_environment\n",
    "from tf_agents.environments import tf_environment\n",
    "from tf_agents.environments import tf_py_environment\n",
    "from tf_agents.environments import utils\n",
    "from tf_agents.specs import array_spec\n",
    "from tf_agents.environments import wrappers\n",
    "from tf_agents.environments import suite_gym\n",
    "from tf_agents.trajectories import time_step as ts"
   ]
  },
  {
   "cell_type": "code",
   "execution_count": 159,
   "metadata": {},
   "outputs": [],
   "source": [
    "class SparkEnv(py_environment.PyEnvironment):\n",
    "\n",
    "    def __init__(self):\n",
    "        self._action_spec = array_spec.BoundedArraySpec(\n",
    "            shape=(), dtype=np.int32, minimum=0, maximum=1, name='action')\n",
    "        self._observation_spec = array_spec.ArraySpec(\n",
    "            shape=(8,), dtype=np.float32, name='observation')\n",
    "        self._reward_spec = array_spec.ArraySpec(\n",
    "            shape=(8,), dtype=np.int32, name='reward')\n",
    "        self._discount_spec = array_spec.ArraySpec(\n",
    "            shape=(), dtype=np.float32, name='discount')\n",
    "        self._state = None\n",
    "        self._reward = None\n",
    "        self._discount = None\n",
    "        self._episode_ended = False\n",
    "        # ACTION\n",
    "        # 0: DO NOTHING\n",
    "        # 1: INCREASE MEMORY\n",
    "        # -1: DECREASE MEMORY\n",
    "        self._action = 0\n",
    "        #  WHERE IS THE DEFINITION\n",
    "        self.thpt_avg = 0\n",
    "        self.qos_avg = 0\n",
    "        # REWARD\n",
    "\n",
    "    def action_spec(self):\n",
    "        return self._action_spec\n",
    "\n",
    "    def observation_spec(self):\n",
    "        return self._observation_spec\n",
    "    \n",
    "    def reward_spec(self):\n",
    "        return self._reward_spec\n",
    "    \n",
    "    \n",
    "    def time_step_spec(self):\n",
    "        return ts.time_step_spec(self._observation_spec, self._reward_spec)\n",
    "\n",
    "    def _reset(self):\n",
    "        self._state = 0\n",
    "        self._episode_ended = False\n",
    "        return ts.restart(np.array([self._state], dtype=np.int32))\n",
    "\n",
    "    def increaseMemory(self):\n",
    "        self._action = 1\n",
    "        # SEND DEF TO SPARK\n",
    "\n",
    "    def decreaseMemory(self):\n",
    "        self._action = -1\n",
    "        # SEND DEF TO SPARK\n",
    "\n",
    "    def doNothing(self):\n",
    "        None\n",
    "\n",
    "    def endEval(self):\n",
    "        None\n",
    "\n",
    "    def getSparkObservation(self):\n",
    "        return tf.nest.map_structure(lambda x: np.zeros(x.shape, x.dtype),\n",
    "                                     self._observation_spec)\n",
    "\n",
    "    def getRewards(self):\n",
    "        return tf.nest.map_structure(lambda x: np.zeros(x.shape, x.dtype),\n",
    "                                     self._reward_spec)\n",
    "    def getDiscount(self):\n",
    "        return tf.nest.map_structure(lambda x: np.zeros(x.shape, x.dtype),\n",
    "                                     self._discount_spec)\n",
    "\n",
    "    def _step(self, action):\n",
    "\n",
    "        if self._episode_ended:\n",
    "            # The last action ended the episode. Ignore the current action and start\n",
    "            # a new episode.\n",
    "            return self.reset()\n",
    "\n",
    "        # TAKE ACTION\n",
    "        if action == 1:\n",
    "            self.increaseMemory()\n",
    "        if action == -1:\n",
    "            self.decreaseMemory()\n",
    "        elif action == 0:\n",
    "            self.doNothing()\n",
    "        else:\n",
    "            raise ValueError('`action` should be -1, 0 or 1.')\n",
    "\n",
    "        # WAIT FOR OBSERVATION FROM SPARK\n",
    "        # Simulate Random\n",
    "        self.state = self.getSparkObservation()\n",
    "        self._state = self.state\n",
    "        thpttot, thptvar, tproc, tsche, msgsspark, msgsgb, memready, qosthresh = self.getSparkObservation()\n",
    "        # REWARD\n",
    "\n",
    "        self._reward = self.getRewards()\n",
    "        # return ts.transition(\n",
    "        #     np.array([self._state], dtype=np.int32),\n",
    "        #     self.reward=0.0,\n",
    "        #     self._episode_ended,\n",
    "        #     False,\n",
    "        #     {})\n",
    "\n",
    "        self._discount = self.getDiscount()\n",
    "\n",
    "        return ts.TimeStep(\n",
    "            # array_spec.ArraySpec(\n",
    "            #     self.state, dtype=np.int32, name='observation'),\n",
    "            observation=self._state,\n",
    "            reward=self._reward,\n",
    "            # self._episode_ended,\n",
    "            discount=self._discount,\n",
    "            step_type=None\n",
    "        )\n"
   ]
  },
  {
   "cell_type": "code",
   "execution_count": 168,
   "metadata": {},
   "outputs": [
    {
     "data": {
      "text/plain": "TimeStep(\n{'discount': array(0., dtype=float32),\n 'observation': array([0., 0., 0., 0., 0., 0., 0., 0.], dtype=float32),\n 'reward': array([0, 0, 0, 0, 0, 0, 0, 0], dtype=int32),\n 'step_type': None})"
     },
     "execution_count": 168,
     "metadata": {},
     "output_type": "execute_result"
    }
   ],
   "source": [
    "env = SparkEnv()\n",
    "\n",
    "one = np.array(0, dtype=np.int32)\n",
    "zero = np.array(1, dtype=np.int32)\n",
    "\n",
    "env._step(one)\n",
    "# env._reward_spec\n",
    "# env._observation_spec\n",
    "# env._action_spec\n",
    "# env.time_step_spec()"
   ]
  },
  {
   "cell_type": "code",
   "execution_count": 169,
   "metadata": {},
   "outputs": [
    {
     "ename": "ValueError",
     "evalue": "Given `time_step`: TimeStep(\n{'discount': array(1., dtype=float32),\n 'observation': array([0], dtype=int32),\n 'reward': array(0., dtype=float32),\n 'step_type': array(0, dtype=int32)}) does not match expected `time_step_spec`: TimeStep(\n{'discount': BoundedArraySpec(shape=(), dtype=dtype('float32'), name='discount', minimum=0.0, maximum=1.0),\n 'observation': ArraySpec(shape=(8,), dtype=dtype('float32'), name='observation'),\n 'reward': ArraySpec(shape=(8,), dtype=dtype('int32'), name='reward'),\n 'step_type': ArraySpec(shape=(), dtype=dtype('int32'), name='step_type')})",
     "output_type": "error",
     "traceback": [
      "\u001B[0;31m---------------------------------------------------------------------------\u001B[0m",
      "\u001B[0;31mValueError\u001B[0m                                Traceback (most recent call last)",
      "Cell \u001B[0;32mIn[169], line 2\u001B[0m\n\u001B[1;32m      1\u001B[0m env \u001B[38;5;241m=\u001B[39m SparkEnv()\n\u001B[0;32m----> 2\u001B[0m \u001B[43mutils\u001B[49m\u001B[38;5;241;43m.\u001B[39;49m\u001B[43mvalidate_py_environment\u001B[49m\u001B[43m(\u001B[49m\u001B[43menv\u001B[49m\u001B[43m,\u001B[49m\u001B[43m \u001B[49m\u001B[43mepisodes\u001B[49m\u001B[38;5;241;43m=\u001B[39;49m\u001B[38;5;241;43m5\u001B[39;49m\u001B[43m)\u001B[49m\n",
      "File \u001B[0;32m~/Documents/pessoal/tg/git/learning-tg-agents/venvIntelliJ/lib/python3.9/site-packages/tf_agents/environments/utils.py:78\u001B[0m, in \u001B[0;36mvalidate_py_environment\u001B[0;34m(environment, episodes, observation_and_action_constraint_splitter)\u001B[0m\n\u001B[1;32m     76\u001B[0m \u001B[38;5;28;01mwhile\u001B[39;00m episode_count \u001B[38;5;241m<\u001B[39m episodes:\n\u001B[1;32m     77\u001B[0m   \u001B[38;5;28;01mif\u001B[39;00m \u001B[38;5;129;01mnot\u001B[39;00m array_spec\u001B[38;5;241m.\u001B[39mcheck_arrays_nest(time_step, batched_time_step_spec):\n\u001B[0;32m---> 78\u001B[0m     \u001B[38;5;28;01mraise\u001B[39;00m \u001B[38;5;167;01mValueError\u001B[39;00m(\n\u001B[1;32m     79\u001B[0m         \u001B[38;5;124m'\u001B[39m\u001B[38;5;124mGiven `time_step`: \u001B[39m\u001B[38;5;132;01m%r\u001B[39;00m\u001B[38;5;124m does not match expected \u001B[39m\u001B[38;5;124m'\u001B[39m\n\u001B[1;32m     80\u001B[0m         \u001B[38;5;124m'\u001B[39m\u001B[38;5;124m`time_step_spec`: \u001B[39m\u001B[38;5;132;01m%r\u001B[39;00m\u001B[38;5;124m'\u001B[39m \u001B[38;5;241m%\u001B[39m (time_step, batched_time_step_spec))\n\u001B[1;32m     82\u001B[0m   action \u001B[38;5;241m=\u001B[39m random_policy\u001B[38;5;241m.\u001B[39maction(time_step)\u001B[38;5;241m.\u001B[39maction\n\u001B[1;32m     83\u001B[0m   time_step \u001B[38;5;241m=\u001B[39m environment\u001B[38;5;241m.\u001B[39mstep(action)\n",
      "\u001B[0;31mValueError\u001B[0m: Given `time_step`: TimeStep(\n{'discount': array(1., dtype=float32),\n 'observation': array([0], dtype=int32),\n 'reward': array(0., dtype=float32),\n 'step_type': array(0, dtype=int32)}) does not match expected `time_step_spec`: TimeStep(\n{'discount': BoundedArraySpec(shape=(), dtype=dtype('float32'), name='discount', minimum=0.0, maximum=1.0),\n 'observation': ArraySpec(shape=(8,), dtype=dtype('float32'), name='observation'),\n 'reward': ArraySpec(shape=(8,), dtype=dtype('int32'), name='reward'),\n 'step_type': ArraySpec(shape=(), dtype=dtype('int32'), name='step_type')})"
     ]
    }
   ],
   "source": [
    "env = SparkEnv()\n",
    "utils.validate_py_environment(env, episodes=5)"
   ]
  },
  {
   "cell_type": "code",
   "execution_count": null,
   "metadata": {},
   "outputs": [],
   "source": []
  }
 ],
 "metadata": {
  "kernelspec": {
   "display_name": "Python 3.9.13 ('venv': venv)",
   "language": "python",
   "name": "python3"
  },
  "language_info": {
   "codemirror_mode": {
    "name": "ipython",
    "version": 3
   },
   "file_extension": ".py",
   "mimetype": "text/x-python",
   "name": "python",
   "nbconvert_exporter": "python",
   "pygments_lexer": "ipython3",
   "version": "3.9.13"
  },
  "orig_nbformat": 4,
  "vscode": {
   "interpreter": {
    "hash": "5bd2ee761d2d7da4166c50099226d582fd9408a55bb0c94aecff2a6acb1ce196"
   }
  }
 },
 "nbformat": 4,
 "nbformat_minor": 2
}
