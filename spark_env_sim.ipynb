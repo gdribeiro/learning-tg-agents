{
 "cells": [
  {
   "cell_type": "code",
   "execution_count": 2,
   "metadata": {},
   "outputs": [],
   "source": [
    "from __future__ import absolute_import\n",
    "from __future__ import division\n",
    "from __future__ import print_function\n",
    "\n",
    "import abc\n",
    "import tensorflow as tf\n",
    "import numpy as np\n",
    "\n",
    "from tf_agents.environments import py_environment\n",
    "from tf_agents.environments import tf_environment\n",
    "from tf_agents.environments import tf_py_environment\n",
    "from tf_agents.environments import utils\n",
    "from tf_agents.specs import array_spec\n",
    "from tf_agents.environments import wrappers\n",
    "from tf_agents.environments import suite_gym\n",
    "from tf_agents.trajectories import time_step as ts"
   ]
  },
  {
   "cell_type": "code",
   "execution_count": 3,
   "metadata": {},
   "outputs": [],
   "source": [
    "class SparkEnv(py_environment.PyEnvironment):\n",
    "\n",
    "    def __init__(self):\n",
    "        self._action_spec = array_spec.BoundedArraySpec(\n",
    "            shape=(), dtype=np.int32, minimum=-1, maximum=1, name='action')\n",
    "        self._observation_spec = array_spec.BoundedArraySpec(\n",
    "            shape=(8,), dtype=np.float32, minimum=0, name='observation')\n",
    "        self._state = 0\n",
    "        self._episode_ended = False\n",
    "\n",
    "    def action_spec(self):\n",
    "        return self._action_spec\n",
    "\n",
    "    def observation_spec(self):\n",
    "        return self._observation_spec\n",
    "\n",
    "    def _reset(self):\n",
    "        self._state = 0\n",
    "        self._episode_ended = False\n",
    "        return ts.restart(np.array([self._state], dtype=np.int32))\n",
    "\n",
    "\n",
    "    def increaseMemory(self):\n",
    "        self._memory += 1\n",
    "\n",
    "    def decreaseMemory(self):\n",
    "        self._memory -= 1\n",
    "\n",
    "    def doNothing(self):\n",
    "        None\n",
    "\n",
    "    def _step(self, action):\n",
    "\n",
    "        if self._episode_ended:\n",
    "            # The last action ended the episode. Ignore the current action and start\n",
    "            # a new episode.\n",
    "            return self.reset()\n",
    "\n",
    "        # Make sure episodes don't go on forever.\n",
    "        if action == -1:\n",
    "            # Do something\n",
    "            self.increaseMemory()\n",
    "        if action == 1:\n",
    "            self.decreaseMemory()\n",
    "        elif action == 0:\n",
    "            self.doNothing()\n",
    "        else:\n",
    "            raise ValueError('`action` should be 0 or 1.')\n",
    "\n",
    "        \n"
   ]
  },
  {
   "cell_type": "code",
   "execution_count": 4,
   "metadata": {},
   "outputs": [],
   "source": [
    "env = SparkEnv()"
   ]
  },
  {
   "cell_type": "code",
   "execution_count": 10,
   "metadata": {},
   "outputs": [
    {
     "ename": "ValueError",
     "evalue": "Given `time_step`: TimeStep(\n{'discount': array(1., dtype=float32),\n 'observation': array([0], dtype=int32),\n 'reward': array(0., dtype=float32),\n 'step_type': array(0, dtype=int32)}) does not match expected `time_step_spec`: TimeStep(\n{'discount': BoundedArraySpec(shape=(), dtype=dtype('float32'), name='discount', minimum=0.0, maximum=1.0),\n 'observation': BoundedArraySpec(shape=(8,), dtype=dtype('float32'), name='observation', minimum=0.0, maximum=3.4028234663852886e+38),\n 'reward': ArraySpec(shape=(), dtype=dtype('float32'), name='reward'),\n 'step_type': ArraySpec(shape=(), dtype=dtype('int32'), name='step_type')})",
     "output_type": "error",
     "traceback": [
      "\u001b[0;31m---------------------------------------------------------------------------\u001b[0m",
      "\u001b[0;31mValueError\u001b[0m                                Traceback (most recent call last)",
      "\u001b[1;32m/Users/ribeirg/Documents/pessoal/tg/git/learning-tg-agents/spark_env_sim.ipynb Cell 4\u001b[0m in \u001b[0;36m<cell line: 1>\u001b[0;34m()\u001b[0m\n\u001b[0;32m----> <a href='vscode-notebook-cell:/Users/ribeirg/Documents/pessoal/tg/git/learning-tg-agents/spark_env_sim.ipynb#W3sZmlsZQ%3D%3D?line=0'>1</a>\u001b[0m utils\u001b[39m.\u001b[39;49mvalidate_py_environment(env, episodes\u001b[39m=\u001b[39;49m\u001b[39m5\u001b[39;49m)\n",
      "File \u001b[0;32m~/Documents/pessoal/tg/git/learning-tg-agents/venv/lib/python3.9/site-packages/tf_agents/environments/utils.py:78\u001b[0m, in \u001b[0;36mvalidate_py_environment\u001b[0;34m(environment, episodes, observation_and_action_constraint_splitter)\u001b[0m\n\u001b[1;32m     76\u001b[0m \u001b[39mwhile\u001b[39;00m episode_count \u001b[39m<\u001b[39m episodes:\n\u001b[1;32m     77\u001b[0m   \u001b[39mif\u001b[39;00m \u001b[39mnot\u001b[39;00m array_spec\u001b[39m.\u001b[39mcheck_arrays_nest(time_step, batched_time_step_spec):\n\u001b[0;32m---> 78\u001b[0m     \u001b[39mraise\u001b[39;00m \u001b[39mValueError\u001b[39;00m(\n\u001b[1;32m     79\u001b[0m         \u001b[39m'\u001b[39m\u001b[39mGiven `time_step`: \u001b[39m\u001b[39m%r\u001b[39;00m\u001b[39m does not match expected \u001b[39m\u001b[39m'\u001b[39m\n\u001b[1;32m     80\u001b[0m         \u001b[39m'\u001b[39m\u001b[39m`time_step_spec`: \u001b[39m\u001b[39m%r\u001b[39;00m\u001b[39m'\u001b[39m \u001b[39m%\u001b[39m (time_step, batched_time_step_spec))\n\u001b[1;32m     82\u001b[0m   action \u001b[39m=\u001b[39m random_policy\u001b[39m.\u001b[39maction(time_step)\u001b[39m.\u001b[39maction\n\u001b[1;32m     83\u001b[0m   time_step \u001b[39m=\u001b[39m environment\u001b[39m.\u001b[39mstep(action)\n",
      "\u001b[0;31mValueError\u001b[0m: Given `time_step`: TimeStep(\n{'discount': array(1., dtype=float32),\n 'observation': array([0], dtype=int32),\n 'reward': array(0., dtype=float32),\n 'step_type': array(0, dtype=int32)}) does not match expected `time_step_spec`: TimeStep(\n{'discount': BoundedArraySpec(shape=(), dtype=dtype('float32'), name='discount', minimum=0.0, maximum=1.0),\n 'observation': BoundedArraySpec(shape=(8,), dtype=dtype('float32'), name='observation', minimum=0.0, maximum=3.4028234663852886e+38),\n 'reward': ArraySpec(shape=(), dtype=dtype('float32'), name='reward'),\n 'step_type': ArraySpec(shape=(), dtype=dtype('int32'), name='step_type')})"
     ]
    }
   ],
   "source": [
    "utils.validate_py_environment(env, episodes=5)"
   ]
  },
  {
   "cell_type": "code",
   "execution_count": null,
   "metadata": {},
   "outputs": [],
   "source": []
  }
 ],
 "metadata": {
  "kernelspec": {
   "display_name": "Python 3.9.13 ('venv': venv)",
   "language": "python",
   "name": "python3"
  },
  "language_info": {
   "codemirror_mode": {
    "name": "ipython",
    "version": 3
   },
   "file_extension": ".py",
   "mimetype": "text/x-python",
   "name": "python",
   "nbconvert_exporter": "python",
   "pygments_lexer": "ipython3",
   "version": "3.9.13"
  },
  "orig_nbformat": 4,
  "vscode": {
   "interpreter": {
    "hash": "5bd2ee761d2d7da4166c50099226d582fd9408a55bb0c94aecff2a6acb1ce196"
   }
  }
 },
 "nbformat": 4,
 "nbformat_minor": 2
}
