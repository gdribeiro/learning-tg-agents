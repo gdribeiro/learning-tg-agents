{
 "cells": [
  {
   "cell_type": "markdown",
   "metadata": {},
   "source": [
    "# setup"
   ]
  },
  {
   "cell_type": "code",
   "execution_count": 4,
   "metadata": {},
   "outputs": [
    {
     "name": "stdout",
     "output_type": "stream",
     "text": [
      "Requirement already satisfied: imageio in ./venv/lib/python3.9/site-packages (2.4.0)\n",
      "Requirement already satisfied: pillow in ./venv/lib/python3.9/site-packages (from imageio) (9.2.0)\n",
      "Requirement already satisfied: numpy in ./venv/lib/python3.9/site-packages (from imageio) (1.23.2)\n",
      "Note: you may need to restart the kernel to use updated packages.\n",
      "Requirement already satisfied: pyvirtualdisplay in ./venv/lib/python3.9/site-packages (3.0)\n",
      "Note: you may need to restart the kernel to use updated packages.\n",
      "Requirement already satisfied: tf-agents in ./venv/lib/python3.9/site-packages (0.13.0)\n",
      "Requirement already satisfied: absl-py>=0.6.1 in ./venv/lib/python3.9/site-packages (from tf-agents) (1.2.0)\n",
      "Requirement already satisfied: pygame==2.1.0 in ./venv/lib/python3.9/site-packages (from tf-agents) (2.1.0)\n",
      "Requirement already satisfied: gym<=0.23.0,>=0.17.0 in ./venv/lib/python3.9/site-packages (from tf-agents) (0.23.0)\n",
      "Requirement already satisfied: typing-extensions>=3.7.4.3 in ./venv/lib/python3.9/site-packages (from tf-agents) (4.3.0)\n",
      "Requirement already satisfied: cloudpickle>=1.3 in ./venv/lib/python3.9/site-packages (from tf-agents) (2.1.0)\n",
      "Requirement already satisfied: gin-config>=0.4.0 in ./venv/lib/python3.9/site-packages (from tf-agents) (0.5.0)\n",
      "Requirement already satisfied: six>=1.10.0 in ./venv/lib/python3.9/site-packages (from tf-agents) (1.16.0)\n",
      "Requirement already satisfied: numpy>=1.13.3 in ./venv/lib/python3.9/site-packages (from tf-agents) (1.23.2)\n",
      "Requirement already satisfied: wrapt>=1.11.1 in ./venv/lib/python3.9/site-packages (from tf-agents) (1.14.1)\n",
      "Requirement already satisfied: tensorflow-probability>=0.16.0 in ./venv/lib/python3.9/site-packages (from tf-agents) (0.17.0)\n",
      "Requirement already satisfied: pillow in ./venv/lib/python3.9/site-packages (from tf-agents) (9.2.0)\n",
      "Requirement already satisfied: protobuf>=3.11.3 in ./venv/lib/python3.9/site-packages (from tf-agents) (3.19.4)\n",
      "Requirement already satisfied: gym-notices>=0.0.4 in ./venv/lib/python3.9/site-packages (from gym<=0.23.0,>=0.17.0->tf-agents) (0.0.8)\n",
      "Requirement already satisfied: importlib-metadata>=4.10.0 in ./venv/lib/python3.9/site-packages (from gym<=0.23.0,>=0.17.0->tf-agents) (4.12.0)\n",
      "Requirement already satisfied: gast>=0.3.2 in ./venv/lib/python3.9/site-packages (from tensorflow-probability>=0.16.0->tf-agents) (0.4.0)\n",
      "Requirement already satisfied: dm-tree in ./venv/lib/python3.9/site-packages (from tensorflow-probability>=0.16.0->tf-agents) (0.1.7)\n",
      "Requirement already satisfied: decorator in ./venv/lib/python3.9/site-packages (from tensorflow-probability>=0.16.0->tf-agents) (5.1.1)\n",
      "Requirement already satisfied: zipp>=0.5 in ./venv/lib/python3.9/site-packages (from importlib-metadata>=4.10.0->gym<=0.23.0,>=0.17.0->tf-agents) (3.8.1)\n",
      "Note: you may need to restart the kernel to use updated packages.\n",
      "Requirement already satisfied: pyglet in ./venv/lib/python3.9/site-packages (1.5.26)\n",
      "Note: you may need to restart the kernel to use updated packages.\n"
     ]
    }
   ],
   "source": [
    "%pip install imageio\n",
    "%pip install pyvirtualdisplay\n",
    "%pip install tf-agents\n",
    "%pip install pyglet"
   ]
  },
  {
   "cell_type": "markdown",
   "metadata": {},
   "source": [
    "Imports"
   ]
  },
  {
   "cell_type": "code",
   "execution_count": 5,
   "metadata": {},
   "outputs": [],
   "source": [
    "from __future__ import absolute_import\n",
    "from __future__ import division\n",
    "from __future__ import print_function\n",
    "\n",
    "import base64\n",
    "import imageio\n",
    "import IPython\n",
    "import matplotlib\n",
    "import matplotlib.pyplot as plt\n",
    "import PIL.Image\n",
    "import pyvirtualdisplay\n",
    "\n",
    "import tensorflow as tf\n",
    "\n",
    "# Seed for PPO actor network\n",
    "import tensorflow_probability as tfp\n",
    "\n",
    "# PPO Agent\n",
    "from tf_agents.agents.ppo import ppo_agent\n",
    "from tf_agents.agents.ppo import ppo_actor_network\n",
    "from tf_agents.networks import value_network\n",
    "from tf_agents.networks import actor_distribution_network\n",
    "from tf_agents.agents.ppo import ppo_clip_agent\n",
    "\n",
    "\n",
    "from tf_agents.specs import tensor_spec\n",
    "from tf_agents.trajectories import time_step as ts\n",
    "\n",
    "\n",
    "# old agent\n",
    "from tf_agents.agents.categorical_dqn import categorical_dqn_agent\n",
    "from tf_agents.networks import categorical_q_network\n",
    "\n",
    "\n",
    "from tf_agents.drivers import dynamic_step_driver\n",
    "from tf_agents.environments import suite_gym\n",
    "from tf_agents.environments import tf_py_environment\n",
    "from tf_agents.eval import metric_utils\n",
    "from tf_agents.metrics import tf_metrics\n",
    "from tf_agents.policies import random_tf_policy\n",
    "from tf_agents.replay_buffers import tf_uniform_replay_buffer\n",
    "from tf_agents.trajectories import trajectory\n",
    "from tf_agents.utils import common"
   ]
  },
  {
   "cell_type": "code",
   "execution_count": 6,
   "metadata": {},
   "outputs": [],
   "source": [
    "env_name = \"Acrobot-v1\" # @param {type:\"string\"}\n",
    "\n",
    "train_py_env = suite_gym.load(env_name)\n",
    "eval_py_env = suite_gym.load(env_name)\n",
    "\n",
    "train_env = tf_py_environment.TFPyEnvironment(train_py_env)\n",
    "eval_env = tf_py_environment.TFPyEnvironment(eval_py_env)\n",
    "\n",
    "observation_tensor_spec = tensor_spec.from_spec(train_env.observation_spec())\n",
    "action_tensor_spec = tensor_spec.from_spec(train_env.action_spec())\n",
    "time_step_tensor_spec = tensor_spec.from_spec(train_env.time_step_spec())"
   ]
  },
  {
   "cell_type": "code",
   "execution_count": 7,
   "metadata": {},
   "outputs": [
    {
     "name": "stdout",
     "output_type": "stream",
     "text": [
      "Observation: BoundedTensorSpec(shape=(6,), dtype=tf.float32, name='observation', minimum=array([ -1.      ,  -1.      ,  -1.      ,  -1.      , -12.566371,\n",
      "       -28.274334], dtype=float32), maximum=array([ 1.      ,  1.      ,  1.      ,  1.      , 12.566371, 28.274334],\n",
      "      dtype=float32))\n",
      "Action: BoundedTensorSpec(shape=(), dtype=tf.int64, name='action', minimum=array(0), maximum=array(2))\n",
      "TimeStep: TimeStep(\n",
      "{'discount': BoundedTensorSpec(shape=(), dtype=tf.float32, name='discount', minimum=array(0., dtype=float32), maximum=array(1., dtype=float32)),\n",
      " 'observation': BoundedTensorSpec(shape=(6,), dtype=tf.float32, name='observation', minimum=array([ -1.      ,  -1.      ,  -1.      ,  -1.      , -12.566371,\n",
      "       -28.274334], dtype=float32), maximum=array([ 1.      ,  1.      ,  1.      ,  1.      , 12.566371, 28.274334],\n",
      "      dtype=float32)),\n",
      " 'reward': TensorSpec(shape=(), dtype=tf.float32, name='reward'),\n",
      " 'step_type': TensorSpec(shape=(), dtype=tf.int32, name='step_type')})\n"
     ]
    }
   ],
   "source": [
    "print('Observation: {0}'.format(observation_tensor_spec))\n",
    "print('Action: {0}'.format(action_tensor_spec))\n",
    "print('TimeStep: {0}'.format(time_step_tensor_spec))"
   ]
  },
  {
   "cell_type": "markdown",
   "metadata": {},
   "source": [
    "# Agent"
   ]
  },
  {
   "cell_type": "markdown",
   "metadata": {},
   "source": [
    "Network"
   ]
  },
  {
   "cell_type": "code",
   "execution_count": 8,
   "metadata": {},
   "outputs": [],
   "source": [
    "# actor_fc_layers = (128,64,32,16,8,4,2)\n",
    "# value_fc_layers = (128,64,32,16,8,4,2)\n",
    "actor_fc_layers = (64,64)\n",
    "value_fc_layers = (64,64)\n",
    "\n",
    "actor_net = actor_distribution_network.ActorDistributionNetwork(\n",
    "        observation_tensor_spec,\n",
    "        action_tensor_spec,\n",
    "        fc_layer_params=actor_fc_layers,\n",
    "        activation_fn=tf.nn.tanh,\n",
    "        kernel_initializer=tf.keras.initializers.Orthogonal(seed=1),\n",
    "        # seed_stream_class=DeterministicSeedStream,\n",
    "        seed_stream_class=tfp.util.SeedStream\n",
    ")\n",
    "\n",
    "value_net = value_network.ValueNetwork(\n",
    "    observation_tensor_spec,\n",
    "    fc_layer_params=value_fc_layers,\n",
    "    kernel_initializer=tf.keras.initializers.Orthogonal()\n",
    ")"
   ]
  },
  {
   "cell_type": "code",
   "execution_count": 9,
   "metadata": {},
   "outputs": [
    {
     "name": "stderr",
     "output_type": "stream",
     "text": [
      "2022-09-27 22:51:18.252057: I tensorflow/core/platform/cpu_feature_guard.cc:193] This TensorFlow binary is optimized with oneAPI Deep Neural Network Library (oneDNN) to use the following CPU instructions in performance-critical operations:  AVX2 FMA\n",
      "To enable them in other operations, rebuild TensorFlow with the appropriate compiler flags.\n"
     ]
    }
   ],
   "source": [
    "learning_rate = 3e-4 \n",
    "optimizer = tf.optimizers.Adam(learning_rate=learning_rate)\n",
    "\n",
    "train_step_counter = tf.Variable(0)\n",
    "\n",
    "agent_ppo = ppo_agent.PPOAgent(\n",
    "    time_step_spec=time_step_tensor_spec,\n",
    "    action_spec=action_tensor_spec,\n",
    "    actor_net=actor_net,\n",
    "    value_net=value_net,\n",
    "    optimizer=optimizer,\n",
    "    train_step_counter=train_step_counter,\n",
    "    # compute_value_and_advantage_in_train=True,\n",
    "    # update_normalizers_in_train=False,\n",
    "    num_epochs=10\n",
    ")\n",
    "agent_ppo.initialize()"
   ]
  },
  {
   "cell_type": "code",
   "execution_count": 10,
   "metadata": {},
   "outputs": [
    {
     "name": "stdout",
     "output_type": "stream",
     "text": [
      "-484.4\n",
      "-500.0\n",
      "-500.0\n"
     ]
    }
   ],
   "source": [
    "num_eval_episodes= 10\n",
    "\n",
    "def compute_avg_return(environment, policy, num_episodes=10):\n",
    "\n",
    "  total_return = 0.0\n",
    "  for _ in range(num_episodes):\n",
    "\n",
    "    time_step = environment.reset()\n",
    "    episode_return = 0.0\n",
    "\n",
    "    while not time_step.is_last():\n",
    "      action_step = policy.action(time_step)\n",
    "      time_step = environment.step(action_step.action)\n",
    "      episode_return += time_step.reward\n",
    "    total_return += episode_return\n",
    "  avg_return = total_return / num_episodes\n",
    "  return avg_return.numpy()[0]\n",
    "\n",
    "random_policy = random_tf_policy.RandomTFPolicy(\n",
    "   time_step_tensor_spec,\n",
    "    action_tensor_spec,\n",
    "    info_spec=time_step_tensor_spec)\n",
    "\n",
    "def evaluate_policy(policy):\n",
    "  for _ in range(1):\n",
    "    avg= compute_avg_return(eval_env, policy, num_eval_episodes)\n",
    "    print(avg)\n",
    "\n",
    "evaluate_policy(random_policy)\n",
    "\n",
    "evaluate_policy(agent_ppo.policy)\n",
    "\n",
    "evaluate_policy(agent_ppo.collect_policy)\n"
   ]
  },
  {
   "cell_type": "code",
   "execution_count": 11,
   "metadata": {},
   "outputs": [],
   "source": [
    "batch_size = 128\n",
    "replay_buffer_size = 10000\n",
    "replay_buffer_batch_size = 1\n",
    "\n",
    "replay_buffer = tf_uniform_replay_buffer.TFUniformReplayBuffer(\n",
    "    agent_ppo.collect_policy.trajectory_spec,\n",
    "    batch_size=replay_buffer_batch_size,\n",
    "    max_length=replay_buffer_size\n",
    ")"
   ]
  },
  {
   "cell_type": "code",
   "execution_count": 12,
   "metadata": {},
   "outputs": [],
   "source": [
    "\n",
    "def collect_step(environment, policy):\n",
    "    time_step = environment.current_time_step()\n",
    "    action_step = policy.action(time_step)\n",
    "    next_time_step = environment.step(action_step.action)\n",
    "    traj = trajectory.from_transition(time_step, action_step, next_time_step)\n",
    "    replay_buffer.add_batch(traj)\n",
    "    # print(next_time_step.reward)\n"
   ]
  },
  {
   "cell_type": "code",
   "execution_count": 13,
   "metadata": {},
   "outputs": [],
   "source": [
    "initial_collect_steps = 1000\n",
    "\n",
    "for _ in range(initial_collect_steps):\n",
    "    collect_step(train_env, agent_ppo.collect_policy)"
   ]
  },
  {
   "cell_type": "code",
   "execution_count": 14,
   "metadata": {},
   "outputs": [
    {
     "name": "stdout",
     "output_type": "stream",
     "text": [
      "WARNING:tensorflow:From /Users/ribeirg/Documents/pessoal/tg/git/learning-tg-agents/venv/lib/python3.9/site-packages/tensorflow/python/autograph/impl/api.py:377: ReplayBuffer.get_next (from tf_agents.replay_buffers.replay_buffer) is deprecated and will be removed in a future version.\n",
      "Instructions for updating:\n",
      "Use `as_dataset(..., single_deterministic_pass=False) instead.\n"
     ]
    }
   ],
   "source": [
    "n_step_update = 1\n",
    "# batch_size = 64\n",
    "\n",
    "dataset = replay_buffer.as_dataset(\n",
    "    num_parallel_calls=3, sample_batch_size=batch_size,\n",
    "    num_steps=n_step_update + 1).prefetch(batch_size)\n",
    "\n",
    "iterator = iter(dataset)"
   ]
  },
  {
   "cell_type": "code",
   "execution_count": 15,
   "metadata": {},
   "outputs": [
    {
     "name": "stdout",
     "output_type": "stream",
     "text": [
      "step = 1000: Average Return = -500.000000\n",
      "step = 2000: Average Return = -500.000000\n",
      "step = 3000: Average Return = -500.000000\n",
      "step = 4000: Average Return = -500.000000\n",
      "step = 5000: Average Return = -500.000000\n",
      "step = 6000: Average Return = -500.000000\n",
      "step = 7000: Average Return = -500.000000\n",
      "step = 8000: Average Return = -500.000000\n",
      "step = 9000: Average Return = -500.000000\n",
      "step = 10000: loss = 55.593971252441406\n",
      "step = 10000: Average Return = -500.000000\n",
      "step = 11000: Average Return = -500.000000\n",
      "step = 12000: Average Return = -500.000000\n",
      "step = 13000: Average Return = -500.000000\n",
      "step = 14000: Average Return = -500.000000\n",
      "step = 15000: Average Return = -500.000000\n",
      "step = 16000: Average Return = -500.000000\n",
      "step = 17000: Average Return = -500.000000\n",
      "step = 18000: Average Return = -500.000000\n",
      "step = 19000: Average Return = -500.000000\n",
      "step = 20000: loss = 24.8603515625\n",
      "step = 20000: Average Return = -500.000000\n",
      "step = 21000: Average Return = -500.000000\n",
      "step = 22000: Average Return = -500.000000\n",
      "step = 23000: Average Return = -500.000000\n",
      "step = 24000: Average Return = -500.000000\n",
      "step = 25000: Average Return = -500.000000\n",
      "step = 26000: Average Return = -500.000000\n",
      "step = 27000: Average Return = -500.000000\n",
      "step = 28000: Average Return = -500.000000\n",
      "step = 29000: Average Return = -500.000000\n",
      "step = 30000: loss = 1378.5733642578125\n",
      "step = 30000: Average Return = -500.000000\n",
      "step = 31000: Average Return = -500.000000\n",
      "step = 32000: Average Return = -500.000000\n",
      "step = 33000: Average Return = -500.000000\n",
      "step = 34000: Average Return = -500.000000\n",
      "step = 35000: Average Return = -500.000000\n",
      "step = 36000: Average Return = -500.000000\n",
      "step = 37000: Average Return = -500.000000\n",
      "step = 38000: Average Return = -500.000000\n",
      "step = 39000: Average Return = -500.000000\n",
      "step = 40000: loss = 10.844215393066406\n",
      "step = 40000: Average Return = -500.000000\n",
      "step = 41000: Average Return = -500.000000\n",
      "step = 42000: Average Return = -500.000000\n",
      "step = 43000: Average Return = -500.000000\n",
      "step = 44000: Average Return = -500.000000\n",
      "step = 45000: Average Return = -500.000000\n",
      "step = 46000: Average Return = -500.000000\n",
      "step = 47000: Average Return = -500.000000\n",
      "step = 48000: Average Return = -500.000000\n",
      "step = 49000: Average Return = -500.000000\n",
      "step = 50000: loss = 11.724477767944336\n",
      "step = 50000: Average Return = -500.000000\n",
      "step = 51000: Average Return = -500.000000\n",
      "step = 52000: Average Return = -500.000000\n",
      "step = 53000: Average Return = -500.000000\n",
      "step = 54000: Average Return = -500.000000\n",
      "step = 55000: Average Return = -500.000000\n",
      "step = 56000: Average Return = -500.000000\n",
      "step = 57000: Average Return = -500.000000\n",
      "step = 58000: Average Return = -500.000000\n",
      "step = 59000: Average Return = -500.000000\n",
      "step = 60000: loss = 7.518816947937012\n",
      "step = 60000: Average Return = -500.000000\n",
      "step = 61000: Average Return = -500.000000\n",
      "step = 62000: Average Return = -500.000000\n",
      "step = 63000: Average Return = -500.000000\n",
      "step = 64000: Average Return = -500.000000\n",
      "step = 65000: Average Return = -500.000000\n",
      "step = 66000: Average Return = -500.000000\n",
      "step = 67000: Average Return = -500.000000\n",
      "step = 68000: Average Return = -500.000000\n",
      "step = 69000: Average Return = -500.000000\n",
      "step = 70000: loss = 1254.140380859375\n",
      "step = 70000: Average Return = -500.000000\n",
      "step = 71000: Average Return = -500.000000\n",
      "step = 72000: Average Return = -500.000000\n",
      "step = 73000: Average Return = -500.000000\n",
      "step = 74000: Average Return = -500.000000\n",
      "step = 75000: Average Return = -500.000000\n",
      "step = 76000: Average Return = -500.000000\n",
      "step = 77000: Average Return = -500.000000\n",
      "step = 78000: Average Return = -500.000000\n",
      "step = 79000: Average Return = -500.000000\n",
      "step = 80000: loss = 1271.674560546875\n",
      "step = 80000: Average Return = -500.000000\n",
      "step = 81000: Average Return = -500.000000\n",
      "step = 82000: Average Return = -500.000000\n",
      "step = 83000: Average Return = -500.000000\n",
      "step = 84000: Average Return = -500.000000\n",
      "step = 85000: Average Return = -500.000000\n",
      "step = 86000: Average Return = -500.000000\n",
      "step = 87000: Average Return = -500.000000\n",
      "step = 88000: Average Return = -500.000000\n",
      "step = 89000: Average Return = -500.000000\n",
      "step = 90000: loss = 9.005462646484375\n",
      "step = 90000: Average Return = -500.000000\n",
      "step = 91000: Average Return = -500.000000\n",
      "step = 92000: Average Return = -500.000000\n",
      "step = 93000: Average Return = -500.000000\n",
      "step = 94000: Average Return = -500.000000\n",
      "step = 95000: Average Return = -500.000000\n",
      "step = 96000: Average Return = -500.000000\n",
      "step = 97000: Average Return = -500.000000\n",
      "step = 98000: Average Return = -500.000000\n",
      "step = 99000: Average Return = -500.000000\n",
      "step = 100000: loss = 16.56009292602539\n",
      "step = 100000: Average Return = -500.000000\n"
     ]
    }
   ],
   "source": [
    "num_iterations = 10000\n",
    "num_eval_episodes = 10\n",
    "eval_interval = int(num_iterations/10)\n",
    "log_interval = eval_interval * 10\n",
    "collect_steps_per_iteration = 10\n",
    "\n",
    "# (Optional) Optimize by wrapping some of the code in a graph using TF function.\n",
    "agent_ppo.train = common.function(agent_ppo.train)\n",
    "agent_ppo.train_step_counter.assign(0)\n",
    "\n",
    "avg_return = compute_avg_return(eval_env, agent_ppo.policy, num_eval_episodes)\n",
    "returns = [avg_return]\n",
    "returns\n",
    "\n",
    "for _ in range(num_iterations):\n",
    "  # Collect a few steps using collect_policy and save to the replay buffer.\n",
    "  for _ in range(collect_steps_per_iteration):\n",
    "    collect_step(train_env, agent_ppo.collect_policy)\n",
    "  # Sample a batch of data from the buffer and update the agent's network.\n",
    "  experience, unused_info = next(iterator)\n",
    "  train_loss = agent_ppo.train(experience).loss\n",
    "\n",
    "  step = agent_ppo.train_step_counter.numpy()\n",
    "\n",
    "  if step % log_interval == 0:\n",
    "    print('step = {0}: loss = {1}'.format(step, train_loss))\n",
    "\n",
    "  if step % eval_interval == 0:\n",
    "    avg_return = compute_avg_return(eval_env, agent_ppo.policy, num_eval_episodes)\n",
    "    print('step = {0}: Average Return = {1:2f}'.format(step, avg_return))\n",
    "    returns.append(avg_return)\n"
   ]
  },
  {
   "cell_type": "code",
   "execution_count": 20,
   "metadata": {},
   "outputs": [
    {
     "data": {
      "text/plain": [
       "(-527.5, 550.0)"
      ]
     },
     "execution_count": 20,
     "metadata": {},
     "output_type": "execute_result"
    },
    {
     "data": {
      "image/png": "[encoded data removed]",
      "text/plain": [
       "<Figure size 640x480 with 1 Axes>"
      ]
     },
     "metadata": {},
     "output_type": "display_data"
    }
   ],
   "source": [
    "steps = range(0, num_iterations + 1, 100)\n",
    "# steps = range(0, num_iterations + 1, 10)\n",
    "plt.plot(steps, returns)\n",
    "plt.ylabel('Average Return')\n",
    "plt.xlabel('Step')\n",
    "plt.ylim(top=550)"
   ]
  },
  {
   "cell_type": "code",
   "execution_count": null,
   "metadata": {},
   "outputs": [
    {
     "ename": "SyntaxError",
     "evalue": "invalid syntax (1417812230.py, line 1)",
     "output_type": "error",
     "traceback": [
      "\u001b[0;36m  Input \u001b[0;32mIn [26]\u001b[0;36m\u001b[0m\n\u001b[0;31m    train_env._action_spec.\u001b[0m\n\u001b[0m                           ^\u001b[0m\n\u001b[0;31mSyntaxError\u001b[0m\u001b[0;31m:\u001b[0m invalid syntax\n"
     ]
    }
   ],
   "source": [
    "train_env._action_spec."
   ]
  },
  {
   "cell_type": "code",
   "execution_count": null,
   "metadata": {},
   "outputs": [],
   "source": []
  }
 ],
 "metadata": {
  "kernelspec": {
   "display_name": "Python 3.9.13 ('venv': venv)",
   "language": "python",
   "name": "python3"
  },
  "language_info": {
   "codemirror_mode": {
    "name": "ipython",
    "version": 3
   },
   "file_extension": ".py",
   "mimetype": "text/x-python",
   "name": "python",
   "nbconvert_exporter": "python",
   "pygments_lexer": "ipython3",
   "version": "3.9.13"
  },
  "orig_nbformat": 4,
  "vscode": {
   "interpreter": {
    "hash": "5bd2ee761d2d7da4166c50099226d582fd9408a55bb0c94aecff2a6acb1ce196"
   }
  }
 },
 "nbformat": 4,
 "nbformat_minor": 2
}
