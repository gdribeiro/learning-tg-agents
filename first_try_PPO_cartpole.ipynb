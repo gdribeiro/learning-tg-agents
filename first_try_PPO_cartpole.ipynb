{
 "cells": [
  {
   "cell_type": "markdown",
   "metadata": {},
   "source": [
    "# Setup"
   ]
  },
  {
   "cell_type": "code",
   "execution_count": 1,
   "metadata": {},
   "outputs": [
    {
     "name": "stdout",
     "output_type": "stream",
     "text": [
      "Requirement already satisfied: imageio in ./venv/lib/python3.9/site-packages (2.4.0)\n",
      "Requirement already satisfied: pillow in ./venv/lib/python3.9/site-packages (from imageio) (9.2.0)\n",
      "Requirement already satisfied: numpy in ./venv/lib/python3.9/site-packages (from imageio) (1.23.2)\n",
      "Note: you may need to restart the kernel to use updated packages.\n",
      "Requirement already satisfied: pyvirtualdisplay in ./venv/lib/python3.9/site-packages (3.0)\n",
      "Note: you may need to restart the kernel to use updated packages.\n",
      "Requirement already satisfied: tf-agents in ./venv/lib/python3.9/site-packages (0.13.0)\n",
      "Requirement already satisfied: cloudpickle>=1.3 in ./venv/lib/python3.9/site-packages (from tf-agents) (2.1.0)\n",
      "Requirement already satisfied: tensorflow-probability>=0.16.0 in ./venv/lib/python3.9/site-packages (from tf-agents) (0.17.0)\n",
      "Requirement already satisfied: typing-extensions>=3.7.4.3 in ./venv/lib/python3.9/site-packages (from tf-agents) (4.3.0)\n",
      "Requirement already satisfied: protobuf>=3.11.3 in ./venv/lib/python3.9/site-packages (from tf-agents) (3.19.4)\n",
      "Requirement already satisfied: wrapt>=1.11.1 in ./venv/lib/python3.9/site-packages (from tf-agents) (1.14.1)\n",
      "Requirement already satisfied: pillow in ./venv/lib/python3.9/site-packages (from tf-agents) (9.2.0)\n",
      "Requirement already satisfied: numpy>=1.13.3 in ./venv/lib/python3.9/site-packages (from tf-agents) (1.23.2)\n",
      "Requirement already satisfied: pygame==2.1.0 in ./venv/lib/python3.9/site-packages (from tf-agents) (2.1.0)\n",
      "Requirement already satisfied: six>=1.10.0 in ./venv/lib/python3.9/site-packages (from tf-agents) (1.16.0)\n",
      "Requirement already satisfied: gin-config>=0.4.0 in ./venv/lib/python3.9/site-packages (from tf-agents) (0.5.0)\n",
      "Requirement already satisfied: absl-py>=0.6.1 in ./venv/lib/python3.9/site-packages (from tf-agents) (1.2.0)\n",
      "Requirement already satisfied: gym<=0.23.0,>=0.17.0 in ./venv/lib/python3.9/site-packages (from tf-agents) (0.23.0)\n",
      "Requirement already satisfied: gym-notices>=0.0.4 in ./venv/lib/python3.9/site-packages (from gym<=0.23.0,>=0.17.0->tf-agents) (0.0.8)\n",
      "Requirement already satisfied: importlib-metadata>=4.10.0 in ./venv/lib/python3.9/site-packages (from gym<=0.23.0,>=0.17.0->tf-agents) (4.12.0)\n",
      "Requirement already satisfied: decorator in ./venv/lib/python3.9/site-packages (from tensorflow-probability>=0.16.0->tf-agents) (5.1.1)\n",
      "Requirement already satisfied: gast>=0.3.2 in ./venv/lib/python3.9/site-packages (from tensorflow-probability>=0.16.0->tf-agents) (0.4.0)\n",
      "Requirement already satisfied: dm-tree in ./venv/lib/python3.9/site-packages (from tensorflow-probability>=0.16.0->tf-agents) (0.1.7)\n",
      "Requirement already satisfied: zipp>=0.5 in ./venv/lib/python3.9/site-packages (from importlib-metadata>=4.10.0->gym<=0.23.0,>=0.17.0->tf-agents) (3.8.1)\n",
      "Note: you may need to restart the kernel to use updated packages.\n",
      "Requirement already satisfied: pyglet in ./venv/lib/python3.9/site-packages (1.5.26)\n",
      "Note: you may need to restart the kernel to use updated packages.\n"
     ]
    }
   ],
   "source": [
    "%pip install imageio\n",
    "%pip install pyvirtualdisplay\n",
    "%pip install tf-agents\n",
    "%pip install pyglet"
   ]
  },
  {
   "cell_type": "code",
   "execution_count": 2,
   "metadata": {},
   "outputs": [],
   "source": [
    "from __future__ import absolute_import\n",
    "from __future__ import division\n",
    "from __future__ import print_function\n",
    "\n",
    "import base64\n",
    "import imageio\n",
    "import IPython\n",
    "import matplotlib\n",
    "import matplotlib.pyplot as plt\n",
    "import PIL.Image\n",
    "import pyvirtualdisplay\n",
    "\n",
    "import tensorflow as tf\n",
    "\n",
    "# Seed for PPO actor network\n",
    "import tensorflow_probability as tfp\n",
    "\n",
    "# PPO Agent\n",
    "from tf_agents.agents.ppo import ppo_agent\n",
    "from tf_agents.agents.ppo import ppo_actor_network\n",
    "from tf_agents.networks import value_network\n",
    "from tf_agents.networks import actor_distribution_network\n",
    "\n",
    "\n",
    "from tf_agents.specs import tensor_spec\n",
    "from tf_agents.trajectories import time_step as ts\n",
    "\n",
    "\n",
    "# old agent\n",
    "from tf_agents.agents.categorical_dqn import categorical_dqn_agent\n",
    "from tf_agents.networks import categorical_q_network\n",
    "\n",
    "\n",
    "from tf_agents.drivers import dynamic_step_driver\n",
    "from tf_agents.environments import suite_gym\n",
    "from tf_agents.environments import tf_py_environment\n",
    "from tf_agents.eval import metric_utils\n",
    "from tf_agents.metrics import tf_metrics\n",
    "from tf_agents.policies import random_tf_policy\n",
    "from tf_agents.replay_buffers import tf_uniform_replay_buffer\n",
    "from tf_agents.trajectories import trajectory\n",
    "from tf_agents.utils import common\n",
    "\n",
    "# Set up a virtual display for rendering OpenAI gym environments.\n",
    "# display = pyvirtualdisplay.Display(visible=0, size=(1400, 900)).start()"
   ]
  },
  {
   "cell_type": "markdown",
   "metadata": {},
   "source": [
    "# Hyperparameters"
   ]
  },
  {
   "cell_type": "code",
   "execution_count": 3,
   "metadata": {},
   "outputs": [],
   "source": [
    "env_name = \"CartPole-v1\" # @param {type:\"string\"}\n",
    "num_iterations = 5000 # @param {type:\"integer\"}\n",
    "\n",
    "initial_collect_steps = 1000  # @param {type:\"integer\"} \n",
    "collect_steps_per_iteration = 1  # @param {type:\"integer\"}\n",
    "replay_buffer_capacity = 100000  # @param {type:\"integer\"}\n",
    "\n",
    "fc_layer_params = (100,)\n",
    "\n",
    "batch_size = 64  # @param {type:\"integer\"}\n",
    "learning_rate = 1e-3  # @param {type:\"number\"}\n",
    "gamma = 0.99\n",
    "log_interval = 200  # @param {type:\"integer\"}\n",
    "\n",
    "num_atoms = 51  # @param {type:\"integer\"}\n",
    "min_q_value = -20  # @param {type:\"integer\"}\n",
    "max_q_value = 20  # @param {type:\"integer\"}\n",
    "n_step_update = 2  # @param {type:\"integer\"}\n",
    "\n",
    "num_eval_episodes = 10  # @param {type:\"integer\"}\n",
    "eval_interval = 1000  # @param {type:\"integer\"}\n",
    "\n",
    "\n",
    "actor_fc_layers = (64,64)\n",
    "value_fc_layers = (64,64)"
   ]
  },
  {
   "cell_type": "markdown",
   "metadata": {},
   "source": [
    "# Environment"
   ]
  },
  {
   "cell_type": "code",
   "execution_count": 4,
   "metadata": {},
   "outputs": [],
   "source": [
    "train_py_env = suite_gym.load(env_name)\n",
    "eval_py_env = suite_gym.load(env_name)\n",
    "\n",
    "train_env = tf_py_environment.TFPyEnvironment(train_py_env)\n",
    "eval_env = tf_py_environment.TFPyEnvironment(eval_py_env)\n",
    "\n",
    "observation_tensor_spec = tensor_spec.from_spec(train_env.observation_spec())\n",
    "action_tensor_spec = tensor_spec.from_spec(train_env.action_spec())\n",
    "time_step_tensor_spec = tensor_spec.from_spec(train_env.time_step_spec())"
   ]
  },
  {
   "cell_type": "markdown",
   "metadata": {},
   "source": [
    "# Agent"
   ]
  },
  {
   "cell_type": "markdown",
   "metadata": {},
   "source": [
    "Netowork"
   ]
  },
  {
   "cell_type": "code",
   "execution_count": 5,
   "metadata": {},
   "outputs": [],
   "source": [
    "class DeterministicSeedStream(object):\n",
    "  \"\"\"A fake seed stream class that always generates a deterministic seed.\"\"\"\n",
    "  def __init__(self, seed, salt=''):\n",
    "    del salt\n",
    "    self._seed = seed\n",
    "\n",
    "  def __call__(self):\n",
    "    return self._seed\n"
   ]
  },
  {
   "cell_type": "code",
   "execution_count": 6,
   "metadata": {},
   "outputs": [],
   "source": [
    "# actor_net_builder = ppo_actor_network.PPOActorNetwork()\n",
    "# actor_net = actor_net_builder.create_sequential_actor_net(\n",
    "#     actor_fc_layers, action_tensor_spec)\n",
    "\n",
    "actor_net = actor_distribution_network.ActorDistributionNetwork(\n",
    "        observation_tensor_spec,\n",
    "        action_tensor_spec,\n",
    "        fc_layer_params=fc_layer_params,\n",
    "        activation_fn=tf.nn.tanh,\n",
    "        kernel_initializer=tf.keras.initializers.Orthogonal(seed=1),\n",
    "        # seed_stream_class=DeterministicSeedStream,\n",
    "        seed_stream_class=tfp.util.SeedStream,\n",
    "        seed=1)\n",
    "\n",
    "value_net = value_network.ValueNetwork(\n",
    "    observation_tensor_spec,\n",
    "    fc_layer_params=value_fc_layers,\n",
    "    kernel_initializer=tf.keras.initializers.Orthogonal())\n"
   ]
  },
  {
   "cell_type": "markdown",
   "metadata": {},
   "source": [
    "Optimizer"
   ]
  },
  {
   "cell_type": "code",
   "execution_count": 7,
   "metadata": {},
   "outputs": [
    {
     "name": "stdout",
     "output_type": "stream",
     "text": [
      "BoundedTensorSpec(shape=(4,), dtype=tf.float32, name='observation', minimum=array([-4.8000002e+00, -3.4028235e+38, -4.1887903e-01, -3.4028235e+38],\n",
      "      dtype=float32), maximum=array([4.8000002e+00, 3.4028235e+38, 4.1887903e-01, 3.4028235e+38],\n",
      "      dtype=float32))\n",
      "BoundedTensorSpec(shape=(), dtype=tf.int64, name='action', minimum=array(0), maximum=array(1))\n",
      "TimeStep(\n",
      "{'discount': BoundedTensorSpec(shape=(), dtype=tf.float32, name='discount', minimum=array(0., dtype=float32), maximum=array(1., dtype=float32)),\n",
      " 'observation': BoundedTensorSpec(shape=(4,), dtype=tf.float32, name='observation', minimum=array([-4.8000002e+00, -3.4028235e+38, -4.1887903e-01, -3.4028235e+38],\n",
      "      dtype=float32), maximum=array([4.8000002e+00, 3.4028235e+38, 4.1887903e-01, 3.4028235e+38],\n",
      "      dtype=float32)),\n",
      " 'reward': TensorSpec(shape=(), dtype=tf.float32, name='reward'),\n",
      " 'step_type': TensorSpec(shape=(), dtype=tf.int32, name='step_type')})\n"
     ]
    }
   ],
   "source": [
    "print(observation_tensor_spec)\n",
    "print(action_tensor_spec)\n",
    "print(time_step_tensor_spec)\n",
    "\n"
   ]
  },
  {
   "cell_type": "code",
   "execution_count": 8,
   "metadata": {},
   "outputs": [
    {
     "name": "stderr",
     "output_type": "stream",
     "text": [
      "2022-09-07 16:27:51.260895: I tensorflow/core/platform/cpu_feature_guard.cc:193] This TensorFlow binary is optimized with oneAPI Deep Neural Network Library (oneDNN) to use the following CPU instructions in performance-critical operations:  AVX2 FMA\n",
      "To enable them in other operations, rebuild TensorFlow with the appropriate compiler flags.\n",
      "WARNING:absl:Only tf.keras.optimizers.Optimiers are well supported, got a non-TF2 optimizer: <tensorflow.python.training.adam.AdamOptimizer object at 0x138b1bc10>\n"
     ]
    }
   ],
   "source": [
    "optimizer = tf.compat.v1.train.AdamOptimizer(learning_rate=learning_rate)\n",
    "\n",
    "train_step_counter = tf.Variable(0)\n",
    "\n",
    "# PPO\n",
    "agent_ppo = ppo_agent.PPOAgent(\n",
    "    time_step_spec=time_step_tensor_spec,\n",
    "    action_spec=action_tensor_spec,\n",
    "    actor_net=actor_net,\n",
    "    value_net=value_net,\n",
    "    optimizer=tf.compat.v1.train.AdamOptimizer(),\n",
    "    # train_step_counter=train_step_counter,\n",
    "    compute_value_and_advantage_in_train=True,\n",
    "    update_normalizers_in_train=False\n",
    ")\n",
    "agent_ppo.initialize()"
   ]
  },
  {
   "cell_type": "code",
   "execution_count": 9,
   "metadata": {},
   "outputs": [
    {
     "data": {
      "text/plain": [
       "[<tf_agents.networks.encoding_network.EncodingNetwork at 0x138b23760>,\n",
       " <tf_agents.networks.categorical_projection_network.CategoricalProjectionNetwork at 0x11938d0a0>]"
      ]
     },
     "execution_count": 9,
     "metadata": {},
     "output_type": "execute_result"
    }
   ],
   "source": [
    "agent_ppo.actor_net.layers"
   ]
  },
  {
   "cell_type": "markdown",
   "metadata": {},
   "source": [
    "# Metrics and Evaluation"
   ]
  },
  {
   "cell_type": "code",
   "execution_count": 10,
   "metadata": {},
   "outputs": [
    {
     "data": {
      "text/plain": [
       "9.1"
      ]
     },
     "execution_count": 10,
     "metadata": {},
     "output_type": "execute_result"
    }
   ],
   "source": [
    "def compute_avg_return(environment, policy, num_episodes=10):\n",
    "\n",
    "  total_return = 0.0\n",
    "  for _ in range(num_episodes):\n",
    "\n",
    "    time_step = environment.reset()\n",
    "    episode_return = 0.0\n",
    "\n",
    "    while not time_step.is_last():\n",
    "      action_step = policy.action(time_step)\n",
    "      time_step = environment.step(action_step.action)\n",
    "      episode_return += time_step.reward\n",
    "    total_return += episode_return\n",
    "\n",
    "  avg_return = total_return / num_episodes\n",
    "  return avg_return.numpy()[0]\n",
    "\n",
    "\n",
    "\n",
    "compute_avg_return(eval_env, agent_ppo.policy, num_eval_episodes)\n",
    "\n",
    "# Please also see the metrics module for standard implementations of different\n",
    "# metrics."
   ]
  },
  {
   "cell_type": "markdown",
   "metadata": {},
   "source": [
    "# Data Collection"
   ]
  },
  {
   "cell_type": "code",
   "execution_count": 11,
   "metadata": {},
   "outputs": [
    {
     "name": "stdout",
     "output_type": "stream",
     "text": [
      "WARNING:tensorflow:From /Users/ribeirg/Documents/pessoal/tg/git/learning-tg-agents/venv/lib/python3.9/site-packages/tensorflow/python/autograph/impl/api.py:377: ReplayBuffer.get_next (from tf_agents.replay_buffers.replay_buffer) is deprecated and will be removed in a future version.\n",
      "Instructions for updating:\n",
      "Use `as_dataset(..., single_deterministic_pass=False) instead.\n"
     ]
    },
    {
     "name": "stderr",
     "output_type": "stream",
     "text": [
      "WARNING:tensorflow:From /Users/ribeirg/Documents/pessoal/tg/git/learning-tg-agents/venv/lib/python3.9/site-packages/tensorflow/python/autograph/impl/api.py:377: ReplayBuffer.get_next (from tf_agents.replay_buffers.replay_buffer) is deprecated and will be removed in a future version.\n",
      "Instructions for updating:\n",
      "Use `as_dataset(..., single_deterministic_pass=False) instead.\n"
     ]
    }
   ],
   "source": [
    "collection_policy = random_tf_policy.RandomTFPolicy(\n",
    "    train_env.time_step_spec(),\n",
    "    train_env.action_spec(),\n",
    "    info_spec=agent_ppo.collect_policy.time_step_spec)\n",
    "\n",
    "replay_buffer = tf_uniform_replay_buffer.TFUniformReplayBuffer(\n",
    "    agent_ppo.collect_policy.trajectory_spec,\n",
    "    batch_size=1,\n",
    "    max_length=10000)\n",
    "\n",
    "\n",
    "def collect_step(environment, policy):\n",
    "    time_step = environment.current_time_step()\n",
    "    action_step = policy.action(time_step)\n",
    "    next_time_step = environment.step(action_step.action)\n",
    "    traj = trajectory.from_transition(time_step, action_step, next_time_step)\n",
    "\n",
    "    # Add trajectory to the replay buffer\n",
    "    replay_buffer.add_batch(traj)\n",
    "    # print(next_time_step.reward)\n",
    "\n",
    "\n",
    "for _ in range(initial_collect_steps):\n",
    "    collect_step(train_env, agent_ppo.collect_policy)\n",
    "\n",
    "# This loop is so common in RL, that we provide standard implementations of\n",
    "# these. For more details see the drivers module.\n",
    "\n",
    "# Dataset generates trajectories with shape [BxTx...] where\n",
    "# T = n_step_update + 1.\n",
    "dataset = replay_buffer.as_dataset(\n",
    "    num_parallel_calls=3, sample_batch_size=batch_size,\n",
    "    num_steps=n_step_update + 1).prefetch(10)\n",
    "\n",
    "iterator = iter(dataset)\n",
    "\n",
    "# print(f'TimeStep: {train_env.time_step_spec()}')\n",
    "# print(f'Action: {train_env.action_spec()}')\n",
    "# print(f'Agent: {agent_ppo.collect_policy.time_step_spec}')"
   ]
  },
  {
   "cell_type": "markdown",
   "metadata": {},
   "source": [
    "# Training the Agent"
   ]
  },
  {
   "cell_type": "code",
   "execution_count": 12,
   "metadata": {},
   "outputs": [
    {
     "name": "stdout",
     "output_type": "stream",
     "text": [
      "step = 100: Average Return = 9.900000\n",
      "step = 200: Average Return = 9.900000\n",
      "step = 300: Average Return = 11.600000\n",
      "step = 400: Average Return = 9.700000\n",
      "step = 500: Average Return = 11.100000\n",
      "step = 600: Average Return = 10.000000\n",
      "step = 700: Average Return = 9.800000\n",
      "step = 800: Average Return = 11.500000\n",
      "step = 900: Average Return = 12.200000\n",
      "step = 1000: loss = 145.9252471923828\n",
      "step = 1000: Average Return = 14.400000\n",
      "step = 1100: Average Return = 10.700000\n",
      "step = 1200: Average Return = 10.700000\n",
      "step = 1300: Average Return = 9.500000\n",
      "step = 1400: Average Return = 10.500000\n",
      "step = 1500: Average Return = 11.300000\n",
      "step = 1600: Average Return = 16.799999\n",
      "step = 1700: Average Return = 21.200001\n",
      "step = 1800: Average Return = 27.799999\n",
      "step = 1900: Average Return = 17.100000\n",
      "step = 2000: loss = 26.586091995239258\n",
      "step = 2000: Average Return = 10.700000\n",
      "step = 2100: Average Return = 12.000000\n",
      "step = 2200: Average Return = 9.500000\n",
      "step = 2300: Average Return = 14.700000\n",
      "step = 2400: Average Return = 12.400000\n",
      "step = 2500: Average Return = 14.900000\n",
      "step = 2600: Average Return = 18.200001\n",
      "step = 2700: Average Return = 14.200000\n",
      "step = 2800: Average Return = 15.300000\n",
      "step = 2900: Average Return = 21.000000\n",
      "step = 3000: loss = 37.24247360229492\n",
      "step = 3000: Average Return = 19.200001\n",
      "step = 3100: Average Return = 22.299999\n",
      "step = 3200: Average Return = 15.900000\n",
      "step = 3300: Average Return = 16.200001\n",
      "step = 3400: Average Return = 12.300000\n",
      "step = 3500: Average Return = 48.400002\n",
      "step = 3600: Average Return = 51.099998\n",
      "step = 3700: Average Return = 18.000000\n",
      "step = 3800: Average Return = 25.299999\n",
      "step = 3900: Average Return = 20.799999\n",
      "step = 4000: loss = 67.31211853027344\n",
      "step = 4000: Average Return = 18.100000\n",
      "step = 4100: Average Return = 19.400000\n",
      "step = 4200: Average Return = 48.799999\n",
      "step = 4300: Average Return = 13.800000\n",
      "step = 4400: Average Return = 13.800000\n",
      "step = 4500: Average Return = 16.000000\n",
      "step = 4600: Average Return = 16.299999\n",
      "step = 4700: Average Return = 18.600000\n",
      "step = 4800: Average Return = 14.800000\n",
      "step = 4900: Average Return = 18.400000\n",
      "step = 5000: loss = 222.14120483398438\n",
      "step = 5000: Average Return = 13.100000\n",
      "step = 5100: Average Return = 16.600000\n",
      "step = 5200: Average Return = 17.600000\n",
      "step = 5300: Average Return = 20.700001\n",
      "step = 5400: Average Return = 16.500000\n",
      "step = 5500: Average Return = 19.799999\n",
      "step = 5600: Average Return = 30.299999\n",
      "step = 5700: Average Return = 44.599998\n",
      "step = 5800: Average Return = 42.799999\n",
      "step = 5900: Average Return = 30.200001\n",
      "step = 6000: loss = 511.1757507324219\n",
      "step = 6000: Average Return = 41.599998\n",
      "step = 6100: Average Return = 44.700001\n",
      "step = 6200: Average Return = 45.599998\n",
      "step = 6300: Average Return = 23.299999\n",
      "step = 6400: Average Return = 23.200001\n",
      "step = 6500: Average Return = 27.600000\n",
      "step = 6600: Average Return = 37.000000\n",
      "step = 6700: Average Return = 21.600000\n",
      "step = 6800: Average Return = 27.000000\n",
      "step = 6900: Average Return = 12.500000\n",
      "step = 7000: loss = 120.40740203857422\n",
      "step = 7000: Average Return = 23.200001\n",
      "step = 7100: Average Return = 13.700000\n",
      "step = 7200: Average Return = 18.100000\n",
      "step = 7300: Average Return = 15.400000\n",
      "step = 7400: Average Return = 10.600000\n",
      "step = 7500: Average Return = 17.100000\n",
      "step = 7600: Average Return = 60.400002\n",
      "step = 7700: Average Return = 14.800000\n",
      "step = 7800: Average Return = 52.700001\n",
      "step = 7900: Average Return = 19.100000\n",
      "step = 8000: loss = 36.99519348144531\n",
      "step = 8000: Average Return = 80.400002\n",
      "step = 8100: Average Return = 13.000000\n",
      "step = 8200: Average Return = 21.600000\n",
      "step = 8300: Average Return = 16.700001\n",
      "step = 8400: Average Return = 22.299999\n",
      "step = 8500: Average Return = 162.600006\n",
      "step = 8600: Average Return = 109.000000\n",
      "step = 8700: Average Return = 169.800003\n",
      "step = 8800: Average Return = 16.900000\n",
      "step = 8900: Average Return = 136.899994\n",
      "step = 9000: loss = 204.5861053466797\n",
      "step = 9000: Average Return = 65.800003\n",
      "step = 9100: Average Return = 134.399994\n",
      "step = 9200: Average Return = 76.400002\n",
      "step = 9300: Average Return = 108.099998\n",
      "step = 9400: Average Return = 63.500000\n",
      "step = 9500: Average Return = 43.000000\n",
      "step = 9600: Average Return = 226.100006\n",
      "step = 9700: Average Return = 154.899994\n",
      "step = 9800: Average Return = 69.099998\n",
      "step = 9900: Average Return = 87.599998\n",
      "step = 10000: loss = 71.81375885009766\n",
      "step = 10000: Average Return = 19.500000\n",
      "step = 10100: Average Return = 60.500000\n",
      "step = 10200: Average Return = 23.700001\n",
      "step = 10300: Average Return = 224.199997\n",
      "step = 10400: Average Return = 41.900002\n",
      "step = 10500: Average Return = 68.500000\n",
      "step = 10600: Average Return = 27.200001\n",
      "step = 10700: Average Return = 69.500000\n",
      "step = 10800: Average Return = 29.900000\n",
      "step = 10900: Average Return = 22.600000\n",
      "step = 11000: loss = 228.06155395507812\n",
      "step = 11000: Average Return = 60.900002\n",
      "step = 11100: Average Return = 128.100006\n",
      "step = 11200: Average Return = 129.800003\n",
      "step = 11300: Average Return = 86.000000\n",
      "step = 11400: Average Return = 59.500000\n",
      "step = 11500: Average Return = 53.299999\n",
      "step = 11600: Average Return = 25.799999\n",
      "step = 11700: Average Return = 102.300003\n",
      "step = 11800: Average Return = 93.699997\n",
      "step = 11900: Average Return = 42.599998\n",
      "step = 12000: loss = 174.2357635498047\n",
      "step = 12000: Average Return = 92.199997\n",
      "step = 12100: Average Return = 37.299999\n",
      "step = 12200: Average Return = 25.799999\n",
      "step = 12300: Average Return = 93.199997\n",
      "step = 12400: Average Return = 101.000000\n",
      "step = 12500: Average Return = 77.599998\n",
      "step = 12600: Average Return = 32.299999\n",
      "step = 12700: Average Return = 61.599998\n",
      "step = 12800: Average Return = 30.000000\n",
      "step = 12900: Average Return = 56.700001\n",
      "step = 13000: loss = 74.08108520507812\n",
      "step = 13000: Average Return = 112.900002\n",
      "step = 13100: Average Return = 73.400002\n",
      "step = 13200: Average Return = 117.400002\n",
      "step = 13300: Average Return = 122.800003\n",
      "step = 13400: Average Return = 62.099998\n",
      "step = 13500: Average Return = 100.699997\n",
      "step = 13600: Average Return = 103.800003\n",
      "step = 13700: Average Return = 103.699997\n",
      "step = 13800: Average Return = 115.199997\n",
      "step = 13900: Average Return = 130.500000\n",
      "step = 14000: loss = 123.6983642578125\n",
      "step = 14000: Average Return = 81.800003\n",
      "step = 14100: Average Return = 90.599998\n",
      "step = 14200: Average Return = 130.100006\n",
      "step = 14300: Average Return = 101.099998\n",
      "step = 14400: Average Return = 112.099998\n",
      "step = 14500: Average Return = 93.400002\n",
      "step = 14600: Average Return = 108.599998\n",
      "step = 14700: Average Return = 51.700001\n",
      "step = 14800: Average Return = 111.599998\n",
      "step = 14900: Average Return = 99.400002\n",
      "step = 15000: loss = 126.61138153076172\n",
      "step = 15000: Average Return = 117.300003\n",
      "step = 15100: Average Return = 94.300003\n",
      "step = 15200: Average Return = 57.099998\n",
      "step = 15300: Average Return = 107.000000\n",
      "step = 15400: Average Return = 116.699997\n",
      "step = 15500: Average Return = 97.099998\n",
      "step = 15600: Average Return = 116.099998\n",
      "step = 15700: Average Return = 59.700001\n",
      "step = 15800: Average Return = 114.900002\n",
      "step = 15900: Average Return = 77.199997\n",
      "step = 16000: loss = 1856.986572265625\n",
      "step = 16000: Average Return = 62.500000\n",
      "step = 16100: Average Return = 97.900002\n",
      "step = 16200: Average Return = 36.599998\n",
      "step = 16300: Average Return = 70.599998\n",
      "step = 16400: Average Return = 91.599998\n",
      "step = 16500: Average Return = 93.400002\n",
      "step = 16600: Average Return = 52.400002\n",
      "step = 16700: Average Return = 43.000000\n",
      "step = 16800: Average Return = 37.299999\n",
      "step = 16900: Average Return = 48.400002\n",
      "step = 17000: loss = 104.41692352294922\n",
      "step = 17000: Average Return = 65.199997\n",
      "step = 17100: Average Return = 32.500000\n",
      "step = 17200: Average Return = 71.199997\n",
      "step = 17300: Average Return = 53.700001\n",
      "step = 17400: Average Return = 30.900000\n",
      "step = 17500: Average Return = 46.299999\n",
      "step = 17600: Average Return = 103.400002\n",
      "step = 17700: Average Return = 72.500000\n",
      "step = 17800: Average Return = 55.200001\n",
      "step = 17900: Average Return = 42.599998\n",
      "step = 18000: loss = 536.3029174804688\n",
      "step = 18000: Average Return = 56.500000\n",
      "step = 18100: Average Return = 84.300003\n",
      "step = 18200: Average Return = 58.200001\n",
      "step = 18300: Average Return = 69.800003\n",
      "step = 18400: Average Return = 67.699997\n",
      "step = 18500: Average Return = 79.199997\n",
      "step = 18600: Average Return = 50.099998\n",
      "step = 18700: Average Return = 16.000000\n",
      "step = 18800: Average Return = 12.700000\n",
      "step = 18900: Average Return = 63.200001\n",
      "step = 19000: loss = 556.7596435546875\n",
      "step = 19000: Average Return = 27.100000\n",
      "step = 19100: Average Return = 45.799999\n",
      "step = 19200: Average Return = 58.299999\n",
      "step = 19300: Average Return = 35.599998\n",
      "step = 19400: Average Return = 16.500000\n",
      "step = 19500: Average Return = 23.600000\n",
      "step = 19600: Average Return = 53.799999\n",
      "step = 19700: Average Return = 72.000000\n"
     ]
    }
   ],
   "source": [
    "try:\n",
    "  %%time\n",
    "except:\n",
    "  pass\n",
    "\n",
    "num_iterations = 20000\n",
    "num_eval_episodes = 10\n",
    "eval_interval = 100\n",
    "log_interval = 1000\n",
    "\n",
    "\n",
    "\n",
    "# (Optional) Optimize by wrapping some of the code in a graph using TF function.\n",
    "agent_ppo.train = common.function(agent_ppo.train)\n",
    "\n",
    "# Reset the train step\n",
    "agent_ppo.train_step_counter.assign(0)\n",
    "\n",
    "# Evaluate the agent's policy once before training.\n",
    "avg_return = compute_avg_return(eval_env, agent_ppo.collect_policy, num_eval_episodes)\n",
    "returns = [avg_return]\n",
    "returns\n",
    "\n",
    "for _ in range(num_iterations):\n",
    "  # Collect a few steps using collect_policy and save to the replay buffer.\n",
    "  for _ in range(collect_steps_per_iteration):\n",
    "    collect_step(train_env, agent_ppo.collect_policy)\n",
    "  # Sample a batch of data from the buffer and update the agent's network.\n",
    "  experience, unused_info = next(iterator)\n",
    "  train_loss = agent_ppo.train(experience).loss\n",
    "\n",
    "  step = agent_ppo.train_step_counter.numpy()\n",
    "\n",
    "  \n",
    "  if step % log_interval == 0:\n",
    "    print('step = {0}: loss = {1}'.format(step, train_loss))\n",
    "\n",
    "  if step % eval_interval == 0:\n",
    "    avg_return = compute_avg_return(eval_env, agent_ppo.policy, num_eval_episodes)\n",
    "    print('step = {0}: Average Return = {1:2f}'.format(step, avg_return))\n",
    "    returns.append(avg_return)"
   ]
  },
  {
   "cell_type": "markdown",
   "metadata": {},
   "source": [
    "# Visualization"
   ]
  },
  {
   "cell_type": "code",
   "execution_count": null,
   "metadata": {},
   "outputs": [
    {
     "data": {
      "text/plain": [
       "(-11.915000200271606, 500.0)"
      ]
     },
     "execution_count": 500,
     "metadata": {},
     "output_type": "execute_result"
    },
    {
     "data": {
      "image/png": "[encoded data removed]",
      "text/plain": [
       "<Figure size 640x480 with 1 Axes>"
      ]
     },
     "metadata": {},
     "output_type": "display_data"
    }
   ],
   "source": [
    "# steps = range(0, num_iterations + 1, eval_interval)\n",
    "\n",
    "\n",
    "steps = range(0, num_iterations + 1, 4)\n",
    "plt.plot(steps, returns)\n",
    "plt.ylabel('Average Return')\n",
    "plt.xlabel('Step')\n",
    "plt.ylim(top=500)"
   ]
  }
 ],
 "metadata": {
  "kernelspec": {
   "display_name": "Python 3.9.7 ('venv': venv)",
   "language": "python",
   "name": "python3"
  },
  "language_info": {
   "codemirror_mode": {
    "name": "ipython",
    "version": 3
   },
   "file_extension": ".py",
   "mimetype": "text/x-python",
   "name": "python",
   "nbconvert_exporter": "python",
   "pygments_lexer": "ipython3",
   "version": "3.9.13"
  },
  "orig_nbformat": 4,
  "vscode": {
   "interpreter": {
    "hash": "5bd2ee761d2d7da4166c50099226d582fd9408a55bb0c94aecff2a6acb1ce196"
   }
  }
 },
 "nbformat": 4,
 "nbformat_minor": 2
}
