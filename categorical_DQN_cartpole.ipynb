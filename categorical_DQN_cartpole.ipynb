{
 "cells": [
  {
   "cell_type": "markdown",
   "metadata": {},
   "source": [
    "# Setup"
   ]
  },
  {
   "cell_type": "code",
   "execution_count": 32,
   "metadata": {},
   "outputs": [
    {
     "name": "stdout",
     "output_type": "stream",
     "text": [
      "Requirement already satisfied: imageio==2.4.0 in ./venv/lib/python3.9/site-packages (2.4.0)\n",
      "Requirement already satisfied: numpy in ./venv/lib/python3.9/site-packages (from imageio==2.4.0) (1.23.2)\n",
      "Requirement already satisfied: pillow in ./venv/lib/python3.9/site-packages (from imageio==2.4.0) (9.2.0)\n",
      "Note: you may need to restart the kernel to use updated packages.\n",
      "Requirement already satisfied: pyvirtualdisplay in ./venv/lib/python3.9/site-packages (3.0)\n",
      "Note: you may need to restart the kernel to use updated packages.\n",
      "Requirement already satisfied: tf-agents in ./venv/lib/python3.9/site-packages (0.13.0)\n",
      "Requirement already satisfied: protobuf>=3.11.3 in ./venv/lib/python3.9/site-packages (from tf-agents) (3.19.4)\n",
      "Requirement already satisfied: gin-config>=0.4.0 in ./venv/lib/python3.9/site-packages (from tf-agents) (0.5.0)\n",
      "Requirement already satisfied: cloudpickle>=1.3 in ./venv/lib/python3.9/site-packages (from tf-agents) (2.1.0)\n",
      "Requirement already satisfied: tensorflow-probability>=0.16.0 in ./venv/lib/python3.9/site-packages (from tf-agents) (0.17.0)\n",
      "Requirement already satisfied: pillow in ./venv/lib/python3.9/site-packages (from tf-agents) (9.2.0)\n",
      "Requirement already satisfied: pygame==2.1.0 in ./venv/lib/python3.9/site-packages (from tf-agents) (2.1.0)\n",
      "Requirement already satisfied: numpy>=1.13.3 in ./venv/lib/python3.9/site-packages (from tf-agents) (1.23.2)\n",
      "Requirement already satisfied: wrapt>=1.11.1 in ./venv/lib/python3.9/site-packages (from tf-agents) (1.14.1)\n",
      "Requirement already satisfied: absl-py>=0.6.1 in ./venv/lib/python3.9/site-packages (from tf-agents) (1.2.0)\n",
      "Requirement already satisfied: gym<=0.23.0,>=0.17.0 in ./venv/lib/python3.9/site-packages (from tf-agents) (0.23.0)\n",
      "Requirement already satisfied: typing-extensions>=3.7.4.3 in ./venv/lib/python3.9/site-packages (from tf-agents) (4.3.0)\n",
      "Requirement already satisfied: six>=1.10.0 in ./venv/lib/python3.9/site-packages (from tf-agents) (1.16.0)\n",
      "Requirement already satisfied: gym-notices>=0.0.4 in ./venv/lib/python3.9/site-packages (from gym<=0.23.0,>=0.17.0->tf-agents) (0.0.8)\n",
      "Requirement already satisfied: importlib-metadata>=4.10.0 in ./venv/lib/python3.9/site-packages (from gym<=0.23.0,>=0.17.0->tf-agents) (4.12.0)\n",
      "Requirement already satisfied: decorator in ./venv/lib/python3.9/site-packages (from tensorflow-probability>=0.16.0->tf-agents) (5.1.1)\n",
      "Requirement already satisfied: dm-tree in ./venv/lib/python3.9/site-packages (from tensorflow-probability>=0.16.0->tf-agents) (0.1.7)\n",
      "Requirement already satisfied: gast>=0.3.2 in ./venv/lib/python3.9/site-packages (from tensorflow-probability>=0.16.0->tf-agents) (0.4.0)\n",
      "Requirement already satisfied: zipp>=0.5 in ./venv/lib/python3.9/site-packages (from importlib-metadata>=4.10.0->gym<=0.23.0,>=0.17.0->tf-agents) (3.8.1)\n",
      "Note: you may need to restart the kernel to use updated packages.\n",
      "Requirement already satisfied: pyglet in ./venv/lib/python3.9/site-packages (1.5.26)\n",
      "Note: you may need to restart the kernel to use updated packages.\n"
     ]
    }
   ],
   "source": [
    "%pip install 'imageio==2.4.0'\n",
    "%pip install pyvirtualdisplay\n",
    "%pip install tf-agents\n",
    "%pip install pyglet"
   ]
  },
  {
   "cell_type": "code",
   "execution_count": 33,
   "metadata": {},
   "outputs": [],
   "source": [
    "from __future__ import absolute_import\n",
    "from __future__ import division\n",
    "from __future__ import print_function\n",
    "\n",
    "import base64\n",
    "import imageio\n",
    "import IPython\n",
    "import matplotlib\n",
    "import matplotlib.pyplot as plt\n",
    "import PIL.Image\n",
    "import pyvirtualdisplay\n",
    "\n",
    "import tensorflow as tf\n",
    "\n",
    "from tf_agents.agents.categorical_dqn import categorical_dqn_agent\n",
    "from tf_agents.drivers import dynamic_step_driver\n",
    "from tf_agents.environments import suite_gym\n",
    "from tf_agents.environments import tf_py_environment\n",
    "from tf_agents.eval import metric_utils\n",
    "from tf_agents.metrics import tf_metrics\n",
    "from tf_agents.networks import categorical_q_network\n",
    "from tf_agents.policies import random_tf_policy\n",
    "from tf_agents.replay_buffers import tf_uniform_replay_buffer\n",
    "from tf_agents.trajectories import trajectory\n",
    "from tf_agents.utils import common\n",
    "\n",
    "# Set up a virtual display for rendering OpenAI gym environments.\n",
    "# display = pyvirtualdisplay.Display(visible=0, size=(1400, 900)).start()"
   ]
  },
  {
   "cell_type": "markdown",
   "metadata": {},
   "source": [
    "# Hyperparameters"
   ]
  },
  {
   "cell_type": "code",
   "execution_count": 34,
   "metadata": {},
   "outputs": [],
   "source": [
    "env_name = \"CartPole-v1\" # @param {type:\"string\"}\n",
    "num_iterations = 15000 # @param {type:\"integer\"}\n",
    "\n",
    "initial_collect_steps = 1000  # @param {type:\"integer\"} \n",
    "collect_steps_per_iteration = 1  # @param {type:\"integer\"}\n",
    "replay_buffer_capacity = 100000  # @param {type:\"integer\"}\n",
    "\n",
    "fc_layer_params = (100,)\n",
    "\n",
    "batch_size = 64  # @param {type:\"integer\"}\n",
    "learning_rate = 1e-3  # @param {type:\"number\"}\n",
    "gamma = 0.99\n",
    "log_interval = 200  # @param {type:\"integer\"}\n",
    "\n",
    "num_atoms = 51  # @param {type:\"integer\"}\n",
    "min_q_value = -20  # @param {type:\"integer\"}\n",
    "max_q_value = 20  # @param {type:\"integer\"}\n",
    "n_step_update = 2  # @param {type:\"integer\"}\n",
    "\n",
    "num_eval_episodes = 10  # @param {type:\"integer\"}\n",
    "eval_interval = 1000  # @param {type:\"integer\"}"
   ]
  },
  {
   "cell_type": "markdown",
   "metadata": {},
   "source": [
    "# Environment"
   ]
  },
  {
   "cell_type": "code",
   "execution_count": 35,
   "metadata": {},
   "outputs": [],
   "source": [
    "train_py_env = suite_gym.load(env_name)\n",
    "eval_py_env = suite_gym.load(env_name)\n",
    "\n",
    "train_env = tf_py_environment.TFPyEnvironment(train_py_env)\n",
    "eval_env = tf_py_environment.TFPyEnvironment(eval_py_env)"
   ]
  },
  {
   "cell_type": "markdown",
   "metadata": {},
   "source": [
    "# Agent"
   ]
  },
  {
   "cell_type": "code",
   "execution_count": 36,
   "metadata": {},
   "outputs": [],
   "source": [
    "categorical_q_net = categorical_q_network.CategoricalQNetwork(\n",
    "    train_env.observation_spec(),\n",
    "    train_env.action_spec(),\n",
    "    num_atoms=num_atoms,\n",
    "    fc_layer_params=fc_layer_params)"
   ]
  },
  {
   "cell_type": "markdown",
   "metadata": {},
   "source": [
    "Optimizer"
   ]
  },
  {
   "cell_type": "code",
   "execution_count": 37,
   "metadata": {},
   "outputs": [],
   "source": [
    "optimizer = tf.compat.v1.train.AdamOptimizer(learning_rate=learning_rate)\n",
    "\n",
    "train_step_counter = tf.Variable(0)\n",
    "\n",
    "agent = categorical_dqn_agent.CategoricalDqnAgent(\n",
    "    train_env.time_step_spec(),\n",
    "    train_env.action_spec(),\n",
    "    categorical_q_network=categorical_q_net,\n",
    "    optimizer=optimizer,\n",
    "    min_q_value=min_q_value,\n",
    "    max_q_value=max_q_value,\n",
    "    n_step_update=n_step_update,\n",
    "    td_errors_loss_fn=common.element_wise_squared_loss,\n",
    "    gamma=gamma,\n",
    "    train_step_counter=train_step_counter)\n",
    "agent.initialize()"
   ]
  },
  {
   "cell_type": "markdown",
   "metadata": {},
   "source": [
    "# Metrics and Evaluation"
   ]
  },
  {
   "cell_type": "code",
   "execution_count": 38,
   "metadata": {},
   "outputs": [
    {
     "data": {
      "text/plain": [
       "18.0"
      ]
     },
     "execution_count": 38,
     "metadata": {},
     "output_type": "execute_result"
    }
   ],
   "source": [
    "def compute_avg_return(environment, policy, num_episodes=10):\n",
    "\n",
    "  total_return = 0.0\n",
    "  for _ in range(num_episodes):\n",
    "\n",
    "    time_step = environment.reset()\n",
    "    episode_return = 0.0\n",
    "\n",
    "    while not time_step.is_last():\n",
    "      action_step = policy.action(time_step)\n",
    "      time_step = environment.step(action_step.action)\n",
    "      episode_return += time_step.reward\n",
    "    total_return += episode_return\n",
    "\n",
    "  avg_return = total_return / num_episodes\n",
    "  return avg_return.numpy()[0]\n",
    "\n",
    "\n",
    "random_policy = random_tf_policy.RandomTFPolicy(train_env.time_step_spec(),\n",
    "                                                train_env.action_spec())\n",
    "\n",
    "compute_avg_return(eval_env, random_policy, num_eval_episodes)\n",
    "\n",
    "# Please also see the metrics module for standard implementations of different\n",
    "# metrics."
   ]
  },
  {
   "cell_type": "markdown",
   "metadata": {},
   "source": [
    "# Data Collection"
   ]
  },
  {
   "cell_type": "code",
   "execution_count": 39,
   "metadata": {},
   "outputs": [],
   "source": [
    "replay_buffer = tf_uniform_replay_buffer.TFUniformReplayBuffer(\n",
    "    data_spec=agent.collect_data_spec,\n",
    "    batch_size=train_env.batch_size,\n",
    "    max_length=replay_buffer_capacity)\n",
    "\n",
    "def collect_step(environment, policy):\n",
    "  time_step = environment.current_time_step()\n",
    "  action_step = policy.action(time_step)\n",
    "  next_time_step = environment.step(action_step.action)\n",
    "  traj = trajectory.from_transition(time_step, action_step, next_time_step)\n",
    "\n",
    "  # Add trajectory to the replay buffer\n",
    "  replay_buffer.add_batch(traj)\n",
    "\n",
    "for _ in range(initial_collect_steps):\n",
    "  collect_step(train_env, random_policy)\n",
    "\n",
    "# This loop is so common in RL, that we provide standard implementations of\n",
    "# these. For more details see the drivers module.\n",
    "\n",
    "# Dataset generates trajectories with shape [BxTx...] where\n",
    "# T = n_step_update + 1.\n",
    "dataset = replay_buffer.as_dataset(\n",
    "    num_parallel_calls=3, sample_batch_size=batch_size,\n",
    "    num_steps=n_step_update + 1).prefetch(3)\n",
    "\n",
    "iterator = iter(dataset)"
   ]
  },
  {
   "cell_type": "markdown",
   "metadata": {},
   "source": [
    "# Training the Agent"
   ]
  },
  {
   "cell_type": "code",
   "execution_count": 40,
   "metadata": {},
   "outputs": [
    {
     "name": "stdout",
     "output_type": "stream",
     "text": [
      "step = 200: loss = 3.1657469272613525\n",
      "step = 400: loss = 2.270085334777832\n",
      "step = 600: loss = 2.1022377014160156\n",
      "step = 800: loss = 1.905388593673706\n",
      "step = 1000: loss = 1.788546085357666\n",
      "step = 1000: Average Return = 39.90\n",
      "step = 1200: loss = 1.74657142162323\n",
      "step = 1400: loss = 1.4111583232879639\n",
      "step = 1600: loss = 1.5952855348587036\n",
      "step = 1800: loss = 1.4455124139785767\n",
      "step = 2000: loss = 1.2265400886535645\n",
      "step = 2000: Average Return = 70.90\n",
      "step = 2200: loss = 1.2241193056106567\n",
      "step = 2400: loss = 0.952570378780365\n",
      "step = 2600: loss = 1.0892062187194824\n",
      "step = 2800: loss = 1.1919059753417969\n",
      "step = 3000: loss = 1.018675684928894\n",
      "step = 3000: Average Return = 240.10\n",
      "step = 3200: loss = 1.011176347732544\n",
      "step = 3400: loss = 0.8436222076416016\n",
      "step = 3600: loss = 0.8598305583000183\n",
      "step = 3800: loss = 0.8754538297653198\n",
      "step = 4000: loss = 0.8421288728713989\n",
      "step = 4000: Average Return = 243.30\n",
      "step = 4200: loss = 0.9024510383605957\n",
      "step = 4400: loss = 0.5957927703857422\n",
      "step = 4600: loss = 0.7902804613113403\n",
      "step = 4800: loss = 0.7313231229782104\n",
      "step = 5000: loss = 0.7729113101959229\n",
      "step = 5000: Average Return = 355.90\n",
      "step = 5200: loss = 0.6051791310310364\n",
      "step = 5400: loss = 0.5108693242073059\n",
      "step = 5600: loss = 0.6542883515357971\n",
      "step = 5800: loss = 0.5662594437599182\n",
      "step = 6000: loss = 0.7158551216125488\n",
      "step = 6000: Average Return = 283.70\n",
      "step = 6200: loss = 0.71378493309021\n",
      "step = 6400: loss = 0.6523667573928833\n",
      "step = 6600: loss = 0.705238938331604\n",
      "step = 6800: loss = 0.7513826489448547\n",
      "step = 7000: loss = 0.6422889828681946\n",
      "step = 7000: Average Return = 212.70\n",
      "step = 7200: loss = 0.40506455302238464\n",
      "step = 7400: loss = 0.3540264070034027\n",
      "step = 7600: loss = 0.6267809867858887\n",
      "step = 7800: loss = 0.7315750122070312\n",
      "step = 8000: loss = 0.7391746044158936\n",
      "step = 8000: Average Return = 371.40\n",
      "step = 8200: loss = 0.5780530571937561\n",
      "step = 8400: loss = 0.34383851289749146\n",
      "step = 8600: loss = 0.44863370060920715\n",
      "step = 8800: loss = 0.5348849892616272\n",
      "step = 9000: loss = 0.4148891568183899\n",
      "step = 9000: Average Return = 319.20\n",
      "step = 9200: loss = 0.5403358936309814\n",
      "step = 9400: loss = 0.3951733708381653\n",
      "step = 9600: loss = 0.6939073801040649\n",
      "step = 9800: loss = 0.46779000759124756\n",
      "step = 10000: loss = 0.547893762588501\n",
      "step = 10000: Average Return = 374.40\n",
      "step = 10200: loss = 0.6123529076576233\n",
      "step = 10400: loss = 0.45612090826034546\n",
      "step = 10600: loss = 0.5209547877311707\n",
      "step = 10800: loss = 0.5109184980392456\n",
      "step = 11000: loss = 0.4315621256828308\n",
      "step = 11000: Average Return = 272.70\n",
      "step = 11200: loss = 0.42790600657463074\n",
      "step = 11400: loss = 0.31642046570777893\n",
      "step = 11600: loss = 0.46874547004699707\n",
      "step = 11800: loss = 0.4311468005180359\n",
      "step = 12000: loss = 0.4158129394054413\n",
      "step = 12000: Average Return = 228.00\n",
      "step = 12200: loss = 0.3175945580005646\n",
      "step = 12400: loss = 0.3234073519706726\n",
      "step = 12600: loss = 0.422549307346344\n",
      "step = 12800: loss = 0.4042939841747284\n",
      "step = 13000: loss = 0.5332800149917603\n",
      "step = 13000: Average Return = 365.60\n",
      "step = 13200: loss = 0.3191378116607666\n",
      "step = 13400: loss = 0.39780354499816895\n",
      "step = 13600: loss = 0.4184669256210327\n",
      "step = 13800: loss = 0.5871695280075073\n",
      "step = 14000: loss = 0.562786877155304\n",
      "step = 14000: Average Return = 288.40\n",
      "step = 14200: loss = 0.43233099579811096\n",
      "step = 14400: loss = 0.23907470703125\n",
      "step = 14600: loss = 0.2475208044052124\n",
      "step = 14800: loss = 0.27051612734794617\n",
      "step = 15000: loss = 0.2809332013130188\n",
      "step = 15000: Average Return = 354.30\n"
     ]
    }
   ],
   "source": [
    "try:\n",
    "  %%time\n",
    "except:\n",
    "  pass\n",
    "\n",
    "# (Optional) Optimize by wrapping some of the code in a graph using TF function.\n",
    "agent.train = common.function(agent.train)\n",
    "\n",
    "# Reset the train step\n",
    "agent.train_step_counter.assign(0)\n",
    "\n",
    "# Evaluate the agent's policy once before training.\n",
    "avg_return = compute_avg_return(eval_env, agent.policy, num_eval_episodes)\n",
    "returns = [avg_return]\n",
    "\n",
    "for _ in range(num_iterations):\n",
    "\n",
    "  # Collect a few steps using collect_policy and save to the replay buffer.\n",
    "  for _ in range(collect_steps_per_iteration):\n",
    "    collect_step(train_env, agent.collect_policy)\n",
    "\n",
    "  # Sample a batch of data from the buffer and update the agent's network.\n",
    "  experience, unused_info = next(iterator)\n",
    "  train_loss = agent.train(experience)\n",
    "\n",
    "  step = agent.train_step_counter.numpy()\n",
    "\n",
    "  if step % log_interval == 0:\n",
    "    print('step = {0}: loss = {1}'.format(step, train_loss.loss))\n",
    "\n",
    "  if step % eval_interval == 0:\n",
    "    avg_return = compute_avg_return(eval_env, agent.policy, num_eval_episodes)\n",
    "    print('step = {0}: Average Return = {1:.2f}'.format(step, avg_return))\n",
    "    returns.append(avg_return)"
   ]
  },
  {
   "cell_type": "markdown",
   "metadata": {},
   "source": [
    "# Visualization"
   ]
  },
  {
   "cell_type": "code",
   "execution_count": 43,
   "metadata": {},
   "outputs": [
    {
     "data": {
      "text/plain": [
       "(-9.059999895095824, 550.0)"
      ]
     },
     "execution_count": 43,
     "metadata": {},
     "output_type": "execute_result"
    },
    {
     "data": {
      "image/png": "[encoded data removed]",
      "text/plain": [
       "<Figure size 640x480 with 1 Axes>"
      ]
     },
     "metadata": {},
     "output_type": "display_data"
    }
   ],
   "source": [
    "steps = range(0, num_iterations + 1, eval_interval)\n",
    "plt.plot(steps, returns)\n",
    "plt.ylabel('Average Return')\n",
    "plt.xlabel('Step')\n",
    "plt.ylim(top=550)"
   ]
  },
  {
   "cell_type": "code",
   "execution_count": 42,
   "metadata": {},
   "outputs": [
    {
     "data": {
      "text/plain": [
       "[9.2,\n",
       " 39.9,\n",
       " 70.9,\n",
       " 240.1,\n",
       " 243.3,\n",
       " 355.9,\n",
       " 283.7,\n",
       " 212.7,\n",
       " 371.4,\n",
       " 319.2,\n",
       " 374.4,\n",
       " 272.7,\n",
       " 228.0,\n",
       " 365.6,\n",
       " 288.4,\n",
       " 354.3]"
      ]
     },
     "execution_count": 42,
     "metadata": {},
     "output_type": "execute_result"
    }
   ],
   "source": [
    "returns"
   ]
  },
  {
   "cell_type": "code",
   "execution_count": null,
   "metadata": {},
   "outputs": [],
   "source": []
  }
 ],
 "metadata": {
  "kernelspec": {
   "display_name": "Python 3.9.7 ('venv': venv)",
   "language": "python",
   "name": "python3"
  },
  "language_info": {
   "codemirror_mode": {
    "name": "ipython",
    "version": 3
   },
   "file_extension": ".py",
   "mimetype": "text/x-python",
   "name": "python",
   "nbconvert_exporter": "python",
   "pygments_lexer": "ipython3",
   "version": "3.9.13"
  },
  "orig_nbformat": 4,
  "vscode": {
   "interpreter": {
    "hash": "5bd2ee761d2d7da4166c50099226d582fd9408a55bb0c94aecff2a6acb1ce196"
   }
  }
 },
 "nbformat": 4,
 "nbformat_minor": 2
}
