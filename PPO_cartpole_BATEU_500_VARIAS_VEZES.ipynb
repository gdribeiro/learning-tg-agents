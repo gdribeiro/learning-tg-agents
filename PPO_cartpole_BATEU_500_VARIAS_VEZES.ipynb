{
 "cells": [
  {
   "cell_type": "markdown",
   "metadata": {},
   "source": [
    "# Setup"
   ]
  },
  {
   "cell_type": "code",
   "execution_count": 1,
   "metadata": {},
   "outputs": [
    {
     "name": "stdout",
     "output_type": "stream",
     "text": [
      "Requirement already satisfied: imageio in ./venv/lib/python3.9/site-packages (2.4.0)\n",
      "Requirement already satisfied: pillow in ./venv/lib/python3.9/site-packages (from imageio) (9.2.0)\n",
      "Requirement already satisfied: numpy in ./venv/lib/python3.9/site-packages (from imageio) (1.23.2)\n",
      "Note: you may need to restart the kernel to use updated packages.\n",
      "Requirement already satisfied: pyvirtualdisplay in ./venv/lib/python3.9/site-packages (3.0)\n",
      "Note: you may need to restart the kernel to use updated packages.\n",
      "Requirement already satisfied: tf-agents in ./venv/lib/python3.9/site-packages (0.13.0)\n",
      "Requirement already satisfied: gin-config>=0.4.0 in ./venv/lib/python3.9/site-packages (from tf-agents) (0.5.0)\n",
      "Requirement already satisfied: typing-extensions>=3.7.4.3 in ./venv/lib/python3.9/site-packages (from tf-agents) (4.3.0)\n",
      "Requirement already satisfied: pillow in ./venv/lib/python3.9/site-packages (from tf-agents) (9.2.0)\n",
      "Requirement already satisfied: cloudpickle>=1.3 in ./venv/lib/python3.9/site-packages (from tf-agents) (2.1.0)\n",
      "Requirement already satisfied: protobuf>=3.11.3 in ./venv/lib/python3.9/site-packages (from tf-agents) (3.19.4)\n",
      "Requirement already satisfied: absl-py>=0.6.1 in ./venv/lib/python3.9/site-packages (from tf-agents) (1.2.0)\n",
      "Requirement already satisfied: wrapt>=1.11.1 in ./venv/lib/python3.9/site-packages (from tf-agents) (1.14.1)\n",
      "Requirement already satisfied: tensorflow-probability>=0.16.0 in ./venv/lib/python3.9/site-packages (from tf-agents) (0.17.0)\n",
      "Requirement already satisfied: pygame==2.1.0 in ./venv/lib/python3.9/site-packages (from tf-agents) (2.1.0)\n",
      "Requirement already satisfied: six>=1.10.0 in ./venv/lib/python3.9/site-packages (from tf-agents) (1.16.0)\n",
      "Requirement already satisfied: gym<=0.23.0,>=0.17.0 in ./venv/lib/python3.9/site-packages (from tf-agents) (0.23.0)\n",
      "Requirement already satisfied: numpy>=1.13.3 in ./venv/lib/python3.9/site-packages (from tf-agents) (1.23.2)\n",
      "Requirement already satisfied: importlib-metadata>=4.10.0 in ./venv/lib/python3.9/site-packages (from gym<=0.23.0,>=0.17.0->tf-agents) (4.12.0)\n",
      "Requirement already satisfied: gym-notices>=0.0.4 in ./venv/lib/python3.9/site-packages (from gym<=0.23.0,>=0.17.0->tf-agents) (0.0.8)\n",
      "Requirement already satisfied: decorator in ./venv/lib/python3.9/site-packages (from tensorflow-probability>=0.16.0->tf-agents) (5.1.1)\n",
      "Requirement already satisfied: gast>=0.3.2 in ./venv/lib/python3.9/site-packages (from tensorflow-probability>=0.16.0->tf-agents) (0.4.0)\n",
      "Requirement already satisfied: dm-tree in ./venv/lib/python3.9/site-packages (from tensorflow-probability>=0.16.0->tf-agents) (0.1.7)\n",
      "Requirement already satisfied: zipp>=0.5 in ./venv/lib/python3.9/site-packages (from importlib-metadata>=4.10.0->gym<=0.23.0,>=0.17.0->tf-agents) (3.8.1)\n",
      "Note: you may need to restart the kernel to use updated packages.\n",
      "Requirement already satisfied: pyglet in ./venv/lib/python3.9/site-packages (1.5.26)\n",
      "Note: you may need to restart the kernel to use updated packages.\n"
     ]
    }
   ],
   "source": [
    "%pip install imageio\n",
    "%pip install pyvirtualdisplay\n",
    "%pip install tf-agents\n",
    "%pip install pyglet"
   ]
  },
  {
   "cell_type": "code",
   "execution_count": 2,
   "metadata": {},
   "outputs": [],
   "source": [
    "from __future__ import absolute_import\n",
    "from __future__ import division\n",
    "from __future__ import print_function\n",
    "\n",
    "import base64\n",
    "import imageio\n",
    "import IPython\n",
    "import matplotlib\n",
    "import matplotlib.pyplot as plt\n",
    "import PIL.Image\n",
    "import pyvirtualdisplay\n",
    "\n",
    "import tensorflow as tf\n",
    "\n",
    "# Seed for PPO actor network\n",
    "import tensorflow_probability as tfp\n",
    "\n",
    "# PPO Agent\n",
    "from tf_agents.agents.ppo import ppo_agent\n",
    "from tf_agents.agents.ppo import ppo_actor_network\n",
    "from tf_agents.networks import value_network\n",
    "from tf_agents.networks import actor_distribution_network\n",
    "from tf_agents.agents.ppo import ppo_clip_agent\n",
    "\n",
    "from tf_agents.specs import tensor_spec\n",
    "from tf_agents.trajectories import time_step as ts\n",
    "\n",
    "from tf_agents.networks import sequential\n",
    "\n",
    "# old agent\n",
    "from tf_agents.agents.categorical_dqn import categorical_dqn_agent\n",
    "from tf_agents.networks import categorical_q_network\n",
    "\n",
    "\n",
    "from tf_agents.drivers import dynamic_step_driver\n",
    "from tf_agents.environments import suite_gym\n",
    "from tf_agents.environments import tf_py_environment\n",
    "from tf_agents.eval import metric_utils\n",
    "from tf_agents.metrics import tf_metrics\n",
    "from tf_agents.policies import random_tf_policy\n",
    "from tf_agents.replay_buffers import tf_uniform_replay_buffer\n",
    "from tf_agents.trajectories import trajectory\n",
    "from tf_agents.utils import common\n",
    "\n",
    "# Set up a virtual display for rendering OpenAI gym environments.\n",
    "# display = pyvirtualdisplay.Display(visible=0, size=(1400, 900)).start()"
   ]
  },
  {
   "cell_type": "markdown",
   "metadata": {},
   "source": [
    "# Hyperparameters"
   ]
  },
  {
   "cell_type": "code",
   "execution_count": 3,
   "metadata": {},
   "outputs": [],
   "source": [
    "\n",
    "# register(\n",
    "#     id='CartPole-v1',\n",
    "#     entry_point='gym.envs.classic_control:CartPoleEnv',\n",
    "#     max_episode_steps=500,\n",
    "#     reward_threshold=475.0,\n",
    "# )\n",
    "\n",
    "env_name = \"CartPole-v1\" # @param {type:\"string\"}\n",
    "num_iterations = 5000 # @param {type:\"integer\"}\n",
    "\n",
    "initial_collect_steps = 1000  # @param {type:\"integer\"} \n",
    "collect_steps_per_iteration = 1  # @param {type:\"integer\"}\n",
    "replay_buffer_capacity = 100000  # @param {type:\"integer\"}\n",
    "\n",
    "fc_layer_params = (64,64)\n",
    "\n",
    "batch_size = 64  # @param {type:\"integer\"}\n",
    "learning_rate = 1e-3  # @param {type:\"number\"}\n",
    "gamma = 0.99\n",
    "\n",
    "\n",
    "log_interval = 200  # @param {type:\"integer\"}\n",
    "\n",
    "num_atoms = 51  # @param {type:\"integer\"}\n",
    "min_q_value = -20  # @param {type:\"integer\"}\n",
    "max_q_value = 20  # @param {type:\"integer\"}\n",
    "n_step_update = 2  # @param {type:\"integer\"}\n",
    "\n",
    "num_eval_episodes = 10  # @param {type:\"integer\"}\n",
    "eval_interval = 1000  # @param {type:\"integer\"}\n",
    "\n",
    "\n",
    "actor_fc_layers = (64,64)\n",
    "value_fc_layers = (64,64)"
   ]
  },
  {
   "cell_type": "markdown",
   "metadata": {},
   "source": [
    "# Environment"
   ]
  },
  {
   "cell_type": "code",
   "execution_count": 4,
   "metadata": {},
   "outputs": [],
   "source": [
    "train_py_env = suite_gym.load(env_name)\n",
    "eval_py_env = suite_gym.load(env_name)\n",
    "\n",
    "train_env = tf_py_environment.TFPyEnvironment(train_py_env)\n",
    "eval_env = tf_py_environment.TFPyEnvironment(eval_py_env)\n",
    "\n",
    "observation_tensor_spec = tensor_spec.from_spec(train_env.observation_spec())\n",
    "action_tensor_spec = tensor_spec.from_spec(train_env.action_spec())\n",
    "time_step_tensor_spec = tensor_spec.from_spec(train_env.time_step_spec())"
   ]
  },
  {
   "cell_type": "code",
   "execution_count": 5,
   "metadata": {},
   "outputs": [
    {
     "name": "stdout",
     "output_type": "stream",
     "text": [
      "Observation: BoundedTensorSpec(shape=(4,), dtype=tf.float32, name='observation', minimum=array([-4.8000002e+00, -3.4028235e+38, -4.1887903e-01, -3.4028235e+38],\n",
      "      dtype=float32), maximum=array([4.8000002e+00, 3.4028235e+38, 4.1887903e-01, 3.4028235e+38],\n",
      "      dtype=float32))\n",
      "Action: BoundedTensorSpec(shape=(), dtype=tf.int64, name='action', minimum=array(0), maximum=array(1))\n",
      "TimeStep: TimeStep(\n",
      "{'discount': BoundedTensorSpec(shape=(), dtype=tf.float32, name='discount', minimum=array(0., dtype=float32), maximum=array(1., dtype=float32)),\n",
      " 'observation': BoundedTensorSpec(shape=(4,), dtype=tf.float32, name='observation', minimum=array([-4.8000002e+00, -3.4028235e+38, -4.1887903e-01, -3.4028235e+38],\n",
      "      dtype=float32), maximum=array([4.8000002e+00, 3.4028235e+38, 4.1887903e-01, 3.4028235e+38],\n",
      "      dtype=float32)),\n",
      " 'reward': TensorSpec(shape=(), dtype=tf.float32, name='reward'),\n",
      " 'step_type': TensorSpec(shape=(), dtype=tf.int32, name='step_type')})\n"
     ]
    }
   ],
   "source": [
    "print('Observation: {0}'.format(observation_tensor_spec))\n",
    "print('Action: {0}'.format(action_tensor_spec))\n",
    "print('TimeStep: {0}'.format(time_step_tensor_spec))"
   ]
  },
  {
   "cell_type": "markdown",
   "metadata": {},
   "source": [
    "# Agent"
   ]
  },
  {
   "cell_type": "markdown",
   "metadata": {},
   "source": [
    "Netowork"
   ]
  },
  {
   "cell_type": "code",
   "execution_count": 6,
   "metadata": {},
   "outputs": [],
   "source": [
    "class DeterministicSeedStream(object):\n",
    "  \"\"\"A fake seed stream class that always generates a deterministic seed.\"\"\"\n",
    "  def __init__(self, seed, salt=''):\n",
    "    del salt\n",
    "    self._seed = seed\n",
    "\n",
    "  def __call__(self):\n",
    "    return self._seed"
   ]
  },
  {
   "cell_type": "code",
   "execution_count": 7,
   "metadata": {},
   "outputs": [],
   "source": [
    "# actor_net_builder = ppo_actor_network.PPOActorNetwork()\n",
    "# actor_net = actor_net_builder.create_sequential_actor_net(\n",
    "#     actor_fc_layers, action_tensor_spec)\n",
    "\n",
    "actor_net = actor_distribution_network.ActorDistributionNetwork(\n",
    "        observation_tensor_spec,\n",
    "        action_tensor_spec,\n",
    "        fc_layer_params=actor_fc_layers,\n",
    "        activation_fn=tf.nn.tanh,\n",
    "        kernel_initializer=tf.keras.initializers.Orthogonal(seed=1),\n",
    "        # seed_stream_class=DeterministicSeedStream,\n",
    "        seed_stream_class=tfp.util.SeedStream\n",
    ")\n",
    "\n",
    "value_net = value_network.ValueNetwork(\n",
    "    observation_tensor_spec,\n",
    "    fc_layer_params=value_fc_layers,\n",
    "    kernel_initializer=tf.keras.initializers.Orthogonal()\n",
    ")"
   ]
  },
  {
   "cell_type": "markdown",
   "metadata": {},
   "source": [
    "Optimizer"
   ]
  },
  {
   "cell_type": "code",
   "execution_count": 8,
   "metadata": {},
   "outputs": [
    {
     "name": "stdout",
     "output_type": "stream",
     "text": [
      "BoundedTensorSpec(shape=(4,), dtype=tf.float32, name='observation', minimum=array([-4.8000002e+00, -3.4028235e+38, -4.1887903e-01, -3.4028235e+38],\n",
      "      dtype=float32), maximum=array([4.8000002e+00, 3.4028235e+38, 4.1887903e-01, 3.4028235e+38],\n",
      "      dtype=float32))\n",
      "BoundedTensorSpec(shape=(), dtype=tf.int64, name='action', minimum=array(0), maximum=array(1))\n",
      "TimeStep(\n",
      "{'discount': BoundedTensorSpec(shape=(), dtype=tf.float32, name='discount', minimum=array(0., dtype=float32), maximum=array(1., dtype=float32)),\n",
      " 'observation': BoundedTensorSpec(shape=(4,), dtype=tf.float32, name='observation', minimum=array([-4.8000002e+00, -3.4028235e+38, -4.1887903e-01, -3.4028235e+38],\n",
      "      dtype=float32), maximum=array([4.8000002e+00, 3.4028235e+38, 4.1887903e-01, 3.4028235e+38],\n",
      "      dtype=float32)),\n",
      " 'reward': TensorSpec(shape=(), dtype=tf.float32, name='reward'),\n",
      " 'step_type': TensorSpec(shape=(), dtype=tf.int32, name='step_type')})\n"
     ]
    }
   ],
   "source": [
    "print(observation_tensor_spec)\n",
    "print(action_tensor_spec)\n",
    "print(time_step_tensor_spec)"
   ]
  },
  {
   "cell_type": "code",
   "execution_count": 9,
   "metadata": {},
   "outputs": [
    {
     "name": "stderr",
     "output_type": "stream",
     "text": [
      "2022-09-26 14:48:37.886939: I tensorflow/core/platform/cpu_feature_guard.cc:193] This TensorFlow binary is optimized with oneAPI Deep Neural Network Library (oneDNN) to use the following CPU instructions in performance-critical operations:  AVX2 FMA\n",
      "To enable them in other operations, rebuild TensorFlow with the appropriate compiler flags.\n"
     ]
    }
   ],
   "source": [
    "optimizer = tf.optimizers.Adam(learning_rate=learning_rate)\n",
    "\n",
    "train_step_counter = tf.Variable(0)\n",
    "\n",
    "# PPO\n",
    "agent_ppo = ppo_agent.PPOAgent(\n",
    "    time_step_spec=time_step_tensor_spec,\n",
    "    action_spec=action_tensor_spec,\n",
    "    actor_net=actor_net,\n",
    "    value_net=value_net,\n",
    "    optimizer=optimizer,\n",
    "    train_step_counter=train_step_counter,\n",
    "    compute_value_and_advantage_in_train=True,\n",
    "    update_normalizers_in_train=False,\n",
    "    num_epochs=3\n",
    ")\n",
    "\n",
    "agent_ppo.initialize()\n",
    "# agent_ppo = ppo_agent.PPOAgent(\n",
    "#     time_step_spec=time_step_tensor_spec,\n",
    "#     action_spec=action_tensor_spec.shape.num_elements,\n",
    "#     actor_net=actor_net,\n",
    "#     value_net=value_net\n",
    "# )\n",
    "# agent_ppo = ppo_clip_agent.PPOClipAgent(\n",
    "#     time_step_spec=time_step_tensor_spec,\n",
    "#     action_spec=action_tensor_spec,\n",
    "#     actor_net=actor_net,\n",
    "#     value_net=value_net,\n",
    "#     optimizer=tf.compat.v1.train.AdamOptimizer(),\n",
    "#     train_step_counter=train_step_counter,\n",
    "#     compute_value_and_advantage_in_train=True,\n",
    "#     update_normalizers_in_train=False\n",
    "# )\n",
    "# agent_ppo.initialize()"
   ]
  },
  {
   "cell_type": "markdown",
   "metadata": {},
   "source": [
    "# Metrics and Evaluation"
   ]
  },
  {
   "cell_type": "code",
   "execution_count": 10,
   "metadata": {},
   "outputs": [
    {
     "data": {
      "text/plain": [
       "TimeStep(\n",
       "{'discount': <tf.Tensor: shape=(1,), dtype=float32, numpy=array([1.], dtype=float32)>,\n",
       " 'observation': <tf.Tensor: shape=(1, 4), dtype=float32, numpy=\n",
       "array([[ 0.03363912,  0.04233475, -0.01193389, -0.03936785]],\n",
       "      dtype=float32)>,\n",
       " 'reward': <tf.Tensor: shape=(1,), dtype=float32, numpy=array([0.], dtype=float32)>,\n",
       " 'step_type': <tf.Tensor: shape=(1,), dtype=int32, numpy=array([0], dtype=int32)>})"
      ]
     },
     "execution_count": 10,
     "metadata": {},
     "output_type": "execute_result"
    }
   ],
   "source": [
    "train_env.current_time_step()"
   ]
  },
  {
   "cell_type": "code",
   "execution_count": 11,
   "metadata": {},
   "outputs": [
    {
     "name": "stdout",
     "output_type": "stream",
     "text": [
      "19.6\n"
     ]
    }
   ],
   "source": [
    "def compute_avg_return(environment, policy, num_episodes=10):\n",
    "\n",
    "  total_return = 0.0\n",
    "  for _ in range(num_episodes):\n",
    "\n",
    "    time_step = environment.reset()\n",
    "    episode_return = 0.0\n",
    "\n",
    "    while not time_step.is_last():\n",
    "      action_step = policy.action(time_step)\n",
    "      time_step = environment.step(action_step.action)\n",
    "      episode_return += time_step.reward\n",
    "    total_return += episode_return\n",
    "  avg_return = total_return / num_episodes\n",
    "  return avg_return.numpy()[0]\n",
    "\n",
    "random_policy = random_tf_policy.RandomTFPolicy(\n",
    "   time_step_tensor_spec,\n",
    "    action_tensor_spec,\n",
    "    info_spec=time_step_tensor_spec)\n",
    "\n",
    "def evaluate_policy(policy):\n",
    "  for _ in range(1):\n",
    "    avg= compute_avg_return(eval_env, policy, num_eval_episodes)\n",
    "    print(avg)\n",
    "\n",
    "# evaluate_policy(random_policy)\n",
    "\n",
    "# evaluate_policy(agent_ppo.policy)\n",
    "\n",
    "evaluate_policy(agent_ppo.collect_policy)\n"
   ]
  },
  {
   "cell_type": "markdown",
   "metadata": {},
   "source": [
    "# Data Collection"
   ]
  },
  {
   "cell_type": "code",
   "execution_count": 12,
   "metadata": {},
   "outputs": [
    {
     "name": "stdout",
     "output_type": "stream",
     "text": [
      "WARNING:tensorflow:From /Users/ribeirg/Documents/pessoal/tg/git/learning-tg-agents/venv/lib/python3.9/site-packages/tensorflow/python/autograph/impl/api.py:377: ReplayBuffer.get_next (from tf_agents.replay_buffers.replay_buffer) is deprecated and will be removed in a future version.\n",
      "Instructions for updating:\n",
      "Use `as_dataset(..., single_deterministic_pass=False) instead.\n"
     ]
    }
   ],
   "source": [
    "replay_buffer = tf_uniform_replay_buffer.TFUniformReplayBuffer(\n",
    "    agent_ppo.collect_policy.trajectory_spec,\n",
    "    batch_size=1,\n",
    "    max_length=10000)\n",
    "\n",
    "\n",
    "def collect_step(environment, policy):\n",
    "    time_step = environment.current_time_step()\n",
    "    action_step = policy.action(time_step)\n",
    "    next_time_step = environment.step(action_step.action)\n",
    "    traj = trajectory.from_transition(time_step, action_step, next_time_step)\n",
    "    replay_buffer.add_batch(traj)\n",
    "    # print(next_time_step.reward)\n",
    "\n",
    "\n",
    "for _ in range(initial_collect_steps):\n",
    "    collect_step(train_env, agent_ppo.collect_policy)\n",
    "\n",
    "# This loop is so common in RL, that we provide standard implementations of\n",
    "# these. For more details see the drivers module.\n",
    "\n",
    "# Dataset generates trajectories with shape [BxTx...] where\n",
    "# T = n_step_update + 1.\n",
    "dataset = replay_buffer.as_dataset(\n",
    "    num_parallel_calls=3, sample_batch_size=batch_size,\n",
    "    num_steps=n_step_update + 1).prefetch(2)\n",
    "\n",
    "iterator = iter(dataset)\n",
    "\n",
    "# print(f'TimeStep: {train_env.time_step_spec()}')\n",
    "# print(f'Action: {train_env.action_spec()}')\n",
    "# print(f'Agent: {agent_ppo.collect_policy.time_step_spec}')"
   ]
  },
  {
   "cell_type": "markdown",
   "metadata": {},
   "source": [
    "# Training the Agent"
   ]
  },
  {
   "cell_type": "code",
   "execution_count": 13,
   "metadata": {},
   "outputs": [
    {
     "name": "stdout",
     "output_type": "stream",
     "text": [
      "step = 30: Average Return = 9.000000\n",
      "step = 60: Average Return = 8.800000\n",
      "step = 90: Average Return = 9.500000\n",
      "step = 120: Average Return = 24.299999\n",
      "step = 150: Average Return = 24.900000\n",
      "step = 180: Average Return = 10.100000\n",
      "step = 210: Average Return = 9.700000\n",
      "step = 240: Average Return = 9.600000\n",
      "step = 270: Average Return = 10.600000\n",
      "step = 300: Average Return = 10.200000\n",
      "step = 330: Average Return = 10.200000\n",
      "step = 360: Average Return = 25.400000\n",
      "step = 390: Average Return = 16.500000\n",
      "step = 420: Average Return = 26.900000\n",
      "step = 450: Average Return = 22.000000\n",
      "step = 480: Average Return = 22.500000\n",
      "step = 510: Average Return = 20.000000\n",
      "step = 540: Average Return = 23.799999\n",
      "step = 570: Average Return = 13.600000\n",
      "step = 600: Average Return = 31.700001\n",
      "step = 630: Average Return = 19.500000\n",
      "step = 660: Average Return = 90.699997\n",
      "step = 690: Average Return = 14.800000\n",
      "step = 720: Average Return = 28.200001\n",
      "step = 750: Average Return = 24.799999\n",
      "step = 780: Average Return = 38.200001\n",
      "step = 810: Average Return = 30.700001\n",
      "step = 840: Average Return = 25.500000\n",
      "step = 870: Average Return = 18.799999\n",
      "step = 900: Average Return = 65.099998\n",
      "step = 930: Average Return = 29.799999\n",
      "step = 960: Average Return = 20.799999\n",
      "step = 990: Average Return = 246.000000\n",
      "step = 1020: Average Return = 31.700001\n",
      "step = 1050: Average Return = 39.500000\n",
      "step = 1080: Average Return = 23.400000\n",
      "step = 1110: Average Return = 45.900002\n",
      "step = 1140: Average Return = 102.500000\n",
      "step = 1170: Average Return = 35.400002\n",
      "step = 1200: Average Return = 34.400002\n",
      "step = 1230: Average Return = 157.500000\n",
      "step = 1260: Average Return = 280.799988\n",
      "step = 1290: Average Return = 35.599998\n",
      "step = 1320: Average Return = 142.300003\n",
      "step = 1350: Average Return = 41.799999\n",
      "step = 1380: Average Return = 98.599998\n",
      "step = 1410: Average Return = 28.600000\n",
      "step = 1440: Average Return = 174.100006\n",
      "step = 1470: Average Return = 22.000000\n",
      "step = 1500: Average Return = 144.399994\n",
      "step = 1530: Average Return = 22.000000\n",
      "step = 1560: Average Return = 191.600006\n",
      "step = 1590: Average Return = 39.200001\n",
      "step = 1620: Average Return = 63.799999\n",
      "step = 1650: Average Return = 29.299999\n",
      "step = 1680: Average Return = 199.899994\n",
      "step = 1710: Average Return = 79.099998\n",
      "step = 1740: Average Return = 38.299999\n",
      "step = 1770: Average Return = 123.400002\n",
      "step = 1800: Average Return = 174.300003\n",
      "step = 1830: Average Return = 181.300003\n",
      "step = 1860: Average Return = 116.199997\n",
      "step = 1890: Average Return = 73.800003\n",
      "step = 1920: Average Return = 145.800003\n",
      "step = 1950: Average Return = 90.599998\n",
      "step = 1980: Average Return = 270.399994\n",
      "step = 2010: Average Return = 181.500000\n",
      "step = 2040: Average Return = 44.200001\n",
      "step = 2070: Average Return = 169.800003\n",
      "step = 2100: Average Return = 152.300003\n",
      "step = 2130: Average Return = 84.599998\n",
      "step = 2160: Average Return = 170.500000\n",
      "step = 2190: Average Return = 131.600006\n",
      "step = 2220: Average Return = 127.800003\n",
      "step = 2250: Average Return = 152.300003\n",
      "step = 2280: Average Return = 156.300003\n",
      "step = 2310: Average Return = 34.200001\n",
      "step = 2340: Average Return = 37.700001\n",
      "step = 2370: Average Return = 113.300003\n",
      "step = 2400: Average Return = 88.199997\n",
      "step = 2430: Average Return = 158.000000\n",
      "step = 2460: Average Return = 158.199997\n",
      "step = 2490: Average Return = 40.900002\n",
      "step = 2520: Average Return = 144.399994\n",
      "step = 2550: Average Return = 183.000000\n",
      "step = 2580: Average Return = 43.299999\n",
      "step = 2610: Average Return = 162.100006\n",
      "step = 2640: Average Return = 77.800003\n",
      "step = 2670: Average Return = 129.300003\n",
      "step = 2700: Average Return = 238.000000\n",
      "step = 2730: Average Return = 167.600006\n",
      "step = 2760: Average Return = 93.199997\n",
      "step = 2790: Average Return = 32.599998\n",
      "step = 2820: Average Return = 84.000000\n",
      "step = 2850: Average Return = 159.000000\n",
      "step = 2880: Average Return = 152.199997\n",
      "step = 2910: Average Return = 70.099998\n",
      "step = 2940: Average Return = 29.700001\n",
      "step = 2970: Average Return = 178.500000\n",
      "step = 3000: loss = 509.720703125\n",
      "step = 3000: Average Return = 158.699997\n",
      "step = 3030: Average Return = 206.699997\n",
      "step = 3060: Average Return = 160.899994\n",
      "step = 3090: Average Return = 114.900002\n",
      "step = 3120: Average Return = 43.299999\n",
      "step = 3150: Average Return = 148.399994\n",
      "step = 3180: Average Return = 213.699997\n",
      "step = 3210: Average Return = 163.000000\n",
      "step = 3240: Average Return = 218.500000\n",
      "step = 3270: Average Return = 196.300003\n",
      "step = 3300: Average Return = 184.300003\n",
      "step = 3330: Average Return = 200.399994\n",
      "step = 3360: Average Return = 73.800003\n",
      "step = 3390: Average Return = 128.100006\n",
      "step = 3420: Average Return = 185.899994\n",
      "step = 3450: Average Return = 105.300003\n",
      "step = 3480: Average Return = 29.000000\n",
      "step = 3510: Average Return = 81.199997\n",
      "step = 3540: Average Return = 199.300003\n",
      "step = 3570: Average Return = 179.800003\n",
      "step = 3600: Average Return = 91.400002\n",
      "step = 3630: Average Return = 170.000000\n",
      "step = 3660: Average Return = 178.100006\n",
      "step = 3690: Average Return = 37.599998\n",
      "step = 3720: Average Return = 108.400002\n",
      "step = 3750: Average Return = 89.099998\n",
      "step = 3780: Average Return = 47.099998\n",
      "step = 3810: Average Return = 116.000000\n",
      "step = 3840: Average Return = 186.899994\n",
      "step = 3870: Average Return = 207.000000\n",
      "step = 3900: Average Return = 191.699997\n",
      "step = 3930: Average Return = 163.899994\n",
      "step = 3960: Average Return = 194.600006\n",
      "step = 3990: Average Return = 70.699997\n",
      "step = 4020: Average Return = 213.699997\n",
      "step = 4050: Average Return = 210.300003\n",
      "step = 4080: Average Return = 167.199997\n",
      "step = 4110: Average Return = 114.900002\n",
      "step = 4140: Average Return = 52.700001\n",
      "step = 4170: Average Return = 62.500000\n",
      "step = 4200: Average Return = 129.699997\n",
      "step = 4230: Average Return = 194.699997\n",
      "step = 4260: Average Return = 131.399994\n",
      "step = 4290: Average Return = 164.100006\n",
      "step = 4320: Average Return = 89.500000\n",
      "step = 4350: Average Return = 88.300003\n",
      "step = 4380: Average Return = 146.699997\n",
      "step = 4410: Average Return = 117.599998\n",
      "step = 4440: Average Return = 264.600006\n",
      "step = 4470: Average Return = 122.900002\n",
      "step = 4500: Average Return = 154.500000\n",
      "step = 4530: Average Return = 118.500000\n",
      "step = 4560: Average Return = 110.300003\n",
      "step = 4590: Average Return = 145.000000\n",
      "step = 4620: Average Return = 151.199997\n",
      "step = 4650: Average Return = 165.500000\n",
      "step = 4680: Average Return = 139.699997\n",
      "step = 4710: Average Return = 87.400002\n",
      "step = 4740: Average Return = 226.000000\n",
      "step = 4770: Average Return = 124.500000\n",
      "step = 4800: Average Return = 67.500000\n",
      "step = 4830: Average Return = 51.500000\n",
      "step = 4860: Average Return = 117.400002\n",
      "step = 4890: Average Return = 93.300003\n",
      "step = 4920: Average Return = 133.699997\n",
      "step = 4950: Average Return = 145.899994\n",
      "step = 4980: Average Return = 132.100006\n",
      "step = 5010: Average Return = 41.500000\n",
      "step = 5040: Average Return = 165.899994\n",
      "step = 5070: Average Return = 81.099998\n",
      "step = 5100: Average Return = 61.299999\n",
      "step = 5130: Average Return = 130.300003\n",
      "step = 5160: Average Return = 134.399994\n",
      "step = 5190: Average Return = 65.500000\n",
      "step = 5220: Average Return = 117.900002\n",
      "step = 5250: Average Return = 106.900002\n",
      "step = 5280: Average Return = 91.500000\n",
      "step = 5310: Average Return = 140.899994\n",
      "step = 5340: Average Return = 111.099998\n",
      "step = 5370: Average Return = 193.300003\n",
      "step = 5400: Average Return = 95.800003\n",
      "step = 5430: Average Return = 185.600006\n",
      "step = 5460: Average Return = 146.199997\n",
      "step = 5490: Average Return = 85.900002\n",
      "step = 5520: Average Return = 61.400002\n",
      "step = 5550: Average Return = 54.500000\n",
      "step = 5580: Average Return = 109.500000\n",
      "step = 5610: Average Return = 49.599998\n",
      "step = 5640: Average Return = 34.200001\n",
      "step = 5670: Average Return = 49.900002\n",
      "step = 5700: Average Return = 131.300003\n",
      "step = 5730: Average Return = 144.100006\n",
      "step = 5760: Average Return = 141.300003\n",
      "step = 5790: Average Return = 145.100006\n",
      "step = 5820: Average Return = 93.800003\n",
      "step = 5850: Average Return = 211.399994\n",
      "step = 5880: Average Return = 129.100006\n",
      "step = 5910: Average Return = 90.500000\n",
      "step = 5940: Average Return = 90.000000\n",
      "step = 5970: Average Return = 153.500000\n",
      "step = 6000: loss = 401.5577697753906\n",
      "step = 6000: Average Return = 166.399994\n"
     ]
    }
   ],
   "source": [
    "try:\n",
    "  %%time\n",
    "except:\n",
    "  pass\n",
    "\n",
    "num_iterations = 1000\n",
    "num_eval_episodes = 10\n",
    "eval_interval = int(num_iterations/100)\n",
    "log_interval = 1000\n",
    "\n",
    "\n",
    "# (Optional) Optimize by wrapping some of the code in a graph using TF function.\n",
    "agent_ppo.train = common.function(agent_ppo.train)\n",
    "\n",
    "# Reset the train step\n",
    "agent_ppo.train_step_counter.assign(0)\n",
    "\n",
    "# Evaluate the agent's policy once before training.\n",
    "avg_return = compute_avg_return(eval_env, agent_ppo.collect_policy, num_eval_episodes)\n",
    "returns = [avg_return]\n",
    "returns\n",
    "\n",
    "for _ in range(num_iterations):\n",
    "  # Collect a few steps using collect_policy and save to the replay buffer.\n",
    "  for _ in range(collect_steps_per_iteration):\n",
    "    collect_step(train_env, agent_ppo.collect_policy)\n",
    "  # Sample a batch of data from the buffer and update the agent's network.\n",
    "  experience, unused_info = next(iterator)\n",
    "  train_loss = agent_ppo.train(experience).loss\n",
    "  experience, unused_info = next(iterator)\n",
    "  train_loss = agent_ppo.train(experience).loss\n",
    "\n",
    "\n",
    "  step = agent_ppo.train_step_counter.numpy()\n",
    "\n",
    "  if step % log_interval == 0:\n",
    "    print('step = {0}: loss = {1}'.format(step, train_loss))\n",
    "\n",
    "  if step % eval_interval == 0:\n",
    "    avg_return = compute_avg_return(eval_env, agent_ppo.policy, num_eval_episodes)\n",
    "    print('step = {0}: Average Return = {1:2f}'.format(step, avg_return))\n",
    "    returns.append(avg_return)\n"
   ]
  },
  {
   "cell_type": "markdown",
   "metadata": {},
   "source": [
    "# Visualization"
   ]
  },
  {
   "cell_type": "code",
   "execution_count": 18,
   "metadata": {},
   "outputs": [
    {
     "data": {
      "text/plain": [
       "(-4.799999189376832, 500.0)"
      ]
     },
     "execution_count": 18,
     "metadata": {},
     "output_type": "execute_result"
    },
    {
     "data": {
      "image/png": "[encoded data removed]",
      "text/plain": [
       "<Figure size 640x480 with 1 Axes>"
      ]
     },
     "metadata": {},
     "output_type": "display_data"
    }
   ],
   "source": [
    "steps = range(0, num_iterations + 1, 5)\n",
    "# steps = range(0, num_iterations + 1, 10)\n",
    "plt.plot(steps, returns)\n",
    "plt.ylabel('Average Return')\n",
    "plt.xlabel('Step')\n",
    "plt.ylim(top=500)"
   ]
  },
  {
   "cell_type": "code",
   "execution_count": null,
   "metadata": {},
   "outputs": [],
   "source": []
  }
 ],
 "metadata": {
  "kernelspec": {
   "display_name": "Python 3.9.7 ('venv': venv)",
   "language": "python",
   "name": "python3"
  },
  "language_info": {
   "codemirror_mode": {
    "name": "ipython",
    "version": 3
   },
   "file_extension": ".py",
   "mimetype": "text/x-python",
   "name": "python",
   "nbconvert_exporter": "python",
   "pygments_lexer": "ipython3",
   "version": "3.9.13"
  },
  "orig_nbformat": 4,
  "vscode": {
   "interpreter": {
    "hash": "5bd2ee761d2d7da4166c50099226d582fd9408a55bb0c94aecff2a6acb1ce196"
   }
  }
 },
 "nbformat": 4,
 "nbformat_minor": 2
}
